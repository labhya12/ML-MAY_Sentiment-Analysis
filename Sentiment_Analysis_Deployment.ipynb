{
  "nbformat": 4,
  "nbformat_minor": 0,
  "metadata": {
    "colab": {
      "name": "Sentiment Analysis Deployment.ipynb",
      "provenance": [],
      "mount_file_id": "1MrObFWZQiUOKT3VTl3ms8LyCAzgA__8-",
      "authorship_tag": "ABX9TyMWBLbn0nzmNwTd90cvXWxk",
      "include_colab_link": true
    },
    "kernelspec": {
      "name": "python3",
      "display_name": "Python 3"
    },
    "language_info": {
      "name": "python"
    }
  },
  "cells": [
    {
      "cell_type": "markdown",
      "metadata": {
        "id": "view-in-github",
        "colab_type": "text"
      },
      "source": [
        "<a href=\"https://colab.research.google.com/github/jomon-r/ML-MAY-Sentiment-Analysis/blob/main/Sentiment_Analysis_Deployment.ipynb\" target=\"_parent\"><img src=\"https://colab.research.google.com/assets/colab-badge.svg\" alt=\"Open In Colab\"/></a>"
      ]
    },
    {
      "cell_type": "code",
      "metadata": {
        "id": "VWJaPL9yOHeT"
      },
      "source": [
        "!pip install streamlit --quiet\n",
        "!pip install pyngrok==4.1.1\n",
        "from pyngrok import ngrok"
      ],
      "execution_count": null,
      "outputs": []
    },
    {
      "cell_type": "code",
      "metadata": {
        "id": "M9FmHsaIOgh6",
        "colab": {
          "base_uri": "https://localhost:8080/"
        },
        "outputId": "c3a70484-2c2c-4531-ca93-46fcb8f99f4a"
      },
      "source": [
        "%%writefile app.py\n",
        "# It is a magic command to create a .py file\n",
        "import streamlit as st\n",
        "import joblib\n",
        "st.title('Sentiment Analysis Deployment')\n",
        "test_model = joblib.load('/content/drive/MyDrive/ML MAY BATCH MAJOR PROJECT/Sentiment-Analysis')\n",
        "ip = st.text_input('Enter your message')\n",
        "op = test_model.predict([ip])\n",
        "if op[0] == '1':\n",
        "  result = 'POSITIVE COMMENT'\n",
        "elif op[0] == '0':\n",
        "  result = 'NEUTRAL COMMENT'\n",
        "else:\n",
        "  result = 'NEGATIVE COMMENT'\n",
        "if st.button('Predict'):\n",
        "  st.title(result)"
      ],
      "execution_count": null,
      "outputs": [
        {
          "output_type": "stream",
          "text": [
            "Overwriting app.py\n"
          ],
          "name": "stdout"
        }
      ]
    },
    {
      "cell_type": "code",
      "metadata": {
        "id": "kc95Xj-DOoxx",
        "colab": {
          "base_uri": "https://localhost:8080/",
          "height": 53
        },
        "outputId": "98b87854-d142-411f-93fe-58c1a4926ede"
      },
      "source": [
        "!nohup streamlit run app.py &\n",
        "url = ngrok.connect(port ='8501')\n",
        "url"
      ],
      "execution_count": null,
      "outputs": [
        {
          "output_type": "stream",
          "text": [
            "nohup: appending output to 'nohup.out'\n"
          ],
          "name": "stdout"
        },
        {
          "output_type": "execute_result",
          "data": {
            "application/vnd.google.colaboratory.intrinsic+json": {
              "type": "string"
            },
            "text/plain": [
              "'http://130452baf69f.ngrok.io'"
            ]
          },
          "metadata": {
            "tags": []
          },
          "execution_count": 4
        }
      ]
    },
    {
      "cell_type": "code",
      "metadata": {
        "id": "oX6lhc3TRo05"
      },
      "source": [
        ""
      ],
      "execution_count": null,
      "outputs": []
    }
  ]
}