{
  "nbformat": 4,
  "nbformat_minor": 0,
  "metadata": {
    "colab": {
      "name": "Sentiment analysis(web scraping).ipynb",
      "provenance": [],
      "authorship_tag": "ABX9TyMC2x/2dD4bYa9xcel9NONH",
      "include_colab_link": true
    },
    "kernelspec": {
      "name": "python3",
      "display_name": "Python 3"
    },
    "language_info": {
      "name": "python"
    }
  },
  "cells": [
    {
      "cell_type": "markdown",
      "metadata": {
        "id": "view-in-github",
        "colab_type": "text"
      },
      "source": [
        "<a href=\"https://colab.research.google.com/github/labhya12/ML-MAY_Sentiment-Analysis/blob/main/Sentiment_analysis(web_scraping).ipynb\" target=\"_parent\"><img src=\"https://colab.research.google.com/assets/colab-badge.svg\" alt=\"Open In Colab\"/></a>"
      ]
    },
    {
      "cell_type": "code",
      "metadata": {
        "colab": {
          "base_uri": "https://localhost:8080/"
        },
        "id": "VFua_k0i6JRO",
        "outputId": "95918d90-ee5a-4ab9-eda6-2a7bfbb20ecf"
      },
      "source": [
        "!pip install ipython-autotime\n",
        "%load_ext autotime"
      ],
      "execution_count": 35,
      "outputs": [
        {
          "output_type": "stream",
          "text": [
            "Requirement already satisfied: ipython-autotime in /usr/local/lib/python3.7/dist-packages (0.3.1)\n",
            "Requirement already satisfied: ipython in /usr/local/lib/python3.7/dist-packages (from ipython-autotime) (5.5.0)\n",
            "Requirement already satisfied: traitlets>=4.2 in /usr/local/lib/python3.7/dist-packages (from ipython->ipython-autotime) (5.0.5)\n",
            "Requirement already satisfied: setuptools>=18.5 in /usr/local/lib/python3.7/dist-packages (from ipython->ipython-autotime) (57.2.0)\n",
            "Requirement already satisfied: pygments in /usr/local/lib/python3.7/dist-packages (from ipython->ipython-autotime) (2.6.1)\n",
            "Requirement already satisfied: simplegeneric>0.8 in /usr/local/lib/python3.7/dist-packages (from ipython->ipython-autotime) (0.8.1)\n",
            "Requirement already satisfied: prompt-toolkit<2.0.0,>=1.0.4 in /usr/local/lib/python3.7/dist-packages (from ipython->ipython-autotime) (1.0.18)\n",
            "Requirement already satisfied: pickleshare in /usr/local/lib/python3.7/dist-packages (from ipython->ipython-autotime) (0.7.5)\n",
            "Requirement already satisfied: decorator in /usr/local/lib/python3.7/dist-packages (from ipython->ipython-autotime) (4.4.2)\n",
            "Requirement already satisfied: pexpect; sys_platform != \"win32\" in /usr/local/lib/python3.7/dist-packages (from ipython->ipython-autotime) (4.8.0)\n",
            "Requirement already satisfied: ipython-genutils in /usr/local/lib/python3.7/dist-packages (from traitlets>=4.2->ipython->ipython-autotime) (0.2.0)\n",
            "Requirement already satisfied: six>=1.9.0 in /usr/local/lib/python3.7/dist-packages (from prompt-toolkit<2.0.0,>=1.0.4->ipython->ipython-autotime) (1.15.0)\n",
            "Requirement already satisfied: wcwidth in /usr/local/lib/python3.7/dist-packages (from prompt-toolkit<2.0.0,>=1.0.4->ipython->ipython-autotime) (0.2.5)\n",
            "Requirement already satisfied: ptyprocess>=0.5 in /usr/local/lib/python3.7/dist-packages (from pexpect; sys_platform != \"win32\"->ipython->ipython-autotime) (0.7.0)\n",
            "The autotime extension is already loaded. To reload it, use:\n",
            "  %reload_ext autotime\n",
            "time: 2.74 s (started: 2021-07-17 12:37:54 +00:00)\n"
          ],
          "name": "stdout"
        }
      ]
    },
    {
      "cell_type": "code",
      "metadata": {
        "colab": {
          "base_uri": "https://localhost:8080/"
        },
        "id": "rzsX9OUZOcCJ",
        "outputId": "a28d77b7-28e0-4f74-dcb9-19ed652a49cd"
      },
      "source": [
        "!pip install vaderSentiment\n",
        "from vaderSentiment.vaderSentiment import SentimentIntensityAnalyzer\n",
        "vs = SentimentIntensityAnalyzer()"
      ],
      "execution_count": 36,
      "outputs": [
        {
          "output_type": "stream",
          "text": [
            "Requirement already satisfied: vaderSentiment in /usr/local/lib/python3.7/dist-packages (3.3.2)\n",
            "Requirement already satisfied: requests in /usr/local/lib/python3.7/dist-packages (from vaderSentiment) (2.23.0)\n",
            "Requirement already satisfied: urllib3!=1.25.0,!=1.25.1,<1.26,>=1.21.1 in /usr/local/lib/python3.7/dist-packages (from requests->vaderSentiment) (1.24.3)\n",
            "Requirement already satisfied: certifi>=2017.4.17 in /usr/local/lib/python3.7/dist-packages (from requests->vaderSentiment) (2021.5.30)\n",
            "Requirement already satisfied: idna<3,>=2.5 in /usr/local/lib/python3.7/dist-packages (from requests->vaderSentiment) (2.10)\n",
            "Requirement already satisfied: chardet<4,>=3.0.2 in /usr/local/lib/python3.7/dist-packages (from requests->vaderSentiment) (3.0.4)\n",
            "time: 2.75 s (started: 2021-07-17 12:37:56 +00:00)\n"
          ],
          "name": "stdout"
        }
      ]
    },
    {
      "cell_type": "code",
      "metadata": {
        "colab": {
          "base_uri": "https://localhost:8080/"
        },
        "id": "kckkERPF60i5",
        "outputId": "860c62c4-6f90-4a72-f882-cffbadfa5311"
      },
      "source": [
        "#web scraping\n",
        "import pandas as pd\n",
        "import numpy as np\n",
        "import requests\n",
        "from bs4 import BeautifulSoup\n",
        "import os\n"
      ],
      "execution_count": 37,
      "outputs": [
        {
          "output_type": "stream",
          "text": [
            "time: 2.76 ms (started: 2021-07-17 12:37:59 +00:00)\n"
          ],
          "name": "stdout"
        }
      ]
    },
    {
      "cell_type": "code",
      "metadata": {
        "colab": {
          "base_uri": "https://localhost:8080/"
        },
        "id": "fD4dqaPbHiCA",
        "outputId": "f907f874-11c8-4310-cad2-1959ed4fd087"
      },
      "source": [
        "urls = ['https://www.inshorts.com/en/read/sports',\n",
        "        'https://www.inshorts.com/en/read/national',\n",
        "        'https://www.inshorts.com/en/read/politics']\n",
        "        \n",
        "def build_dataset(urls):\n",
        "  news_data = []\n",
        "  for url in urls:\n",
        "    news_category = url.split('/')[-1]\n",
        "    data = requests.get(url)\n",
        "    soup = BeautifulSoup(data.content)\n",
        "\n",
        "    news_articles = [{'news_headline':headline.find('span',attrs={\"itemprop\":\"headline\"}).string,\n",
        "                     'news_article':article.find('div',attrs={\"itemprop\":\"articleBody\"}).string,\n",
        "                     'news_category':news_category }\n",
        "                    \n",
        "                    for headline,article in zip(soup.find_all('div',class_=[\"news-card-title news-right-box\"]),\n",
        "                                                soup.find_all('div',class_=[\"news-card-content news-right-box\"]))          \n",
        "                    \n",
        "                           ]\n",
        "\n",
        "    news_articles = news_articles[0:20]\n",
        "    news_data.extend(news_articles)\n",
        "\n",
        "  df = pd.DataFrame(news_data)\n",
        "  df = df[['news_headline','news_article','news_category']]\n",
        "  return df\n",
        "\n"
      ],
      "execution_count": 38,
      "outputs": [
        {
          "output_type": "stream",
          "text": [
            "time: 19.1 ms (started: 2021-07-17 12:37:59 +00:00)\n"
          ],
          "name": "stdout"
        }
      ]
    },
    {
      "cell_type": "code",
      "metadata": {
        "colab": {
          "base_uri": "https://localhost:8080/",
          "height": 1000
        },
        "id": "W54g-MJdETC8",
        "outputId": "8b35a89f-0a89-4f88-8576-12c7093f3993"
      },
      "source": [
        "df=build_dataset(urls)\n",
        "df\n"
      ],
      "execution_count": 39,
      "outputs": [
        {
          "output_type": "execute_result",
          "data": {
            "text/html": [
              "<div>\n",
              "<style scoped>\n",
              "    .dataframe tbody tr th:only-of-type {\n",
              "        vertical-align: middle;\n",
              "    }\n",
              "\n",
              "    .dataframe tbody tr th {\n",
              "        vertical-align: top;\n",
              "    }\n",
              "\n",
              "    .dataframe thead th {\n",
              "        text-align: right;\n",
              "    }\n",
              "</style>\n",
              "<table border=\"1\" class=\"dataframe\">\n",
              "  <thead>\n",
              "    <tr style=\"text-align: right;\">\n",
              "      <th></th>\n",
              "      <th>news_headline</th>\n",
              "      <th>news_article</th>\n",
              "      <th>news_category</th>\n",
              "    </tr>\n",
              "  </thead>\n",
              "  <tbody>\n",
              "    <tr>\n",
              "      <th>0</th>\n",
              "      <td>1st COVID-19 case reported in Olympic Village ...</td>\n",
              "      <td>The first COVID-19 case has been reported in O...</td>\n",
              "      <td>sports</td>\n",
              "    </tr>\n",
              "    <tr>\n",
              "      <th>1</th>\n",
              "      <td>PCB share 'From this to this' meme on young fa...</td>\n",
              "      <td>The Pakistan Cricket Board (PCB) took to Twitt...</td>\n",
              "      <td>sports</td>\n",
              "    </tr>\n",
              "    <tr>\n",
              "      <th>2</th>\n",
              "      <td>England's Livingstone smashes 103(43) in T20I ...</td>\n",
              "      <td>England's 27-year-old batsman Liam Livingstone...</td>\n",
              "      <td>sports</td>\n",
              "    </tr>\n",
              "    <tr>\n",
              "      <th>3</th>\n",
              "      <td>India-born Irish all-rounder Simi becomes 1st ...</td>\n",
              "      <td>India-born Irish all-rounder Simi Singh has be...</td>\n",
              "      <td>sports</td>\n",
              "    </tr>\n",
              "    <tr>\n",
              "      <th>4</th>\n",
              "      <td>Olympic-bound Atanu shares pics from airport, ...</td>\n",
              "      <td>Olympic-bound Indian archer Atanu Das took to ...</td>\n",
              "      <td>sports</td>\n",
              "    </tr>\n",
              "    <tr>\n",
              "      <th>5</th>\n",
              "      <td>How does the CWC Super League points table rea...</td>\n",
              "      <td>South Africa on Friday defeated Ireland by 70 ...</td>\n",
              "      <td>sports</td>\n",
              "    </tr>\n",
              "    <tr>\n",
              "      <th>6</th>\n",
              "      <td>Ben Stokes reveals he played against Pakistan ...</td>\n",
              "      <td>All-rounder Ben Stokes, who led England to a 3...</td>\n",
              "      <td>sports</td>\n",
              "    </tr>\n",
              "    <tr>\n",
              "      <th>7</th>\n",
              "      <td>2007 T20 World Cup win came 13 years ago, I ha...</td>\n",
              "      <td>Ex-India opener Gautam Gambhir said he has for...</td>\n",
              "      <td>sports</td>\n",
              "    </tr>\n",
              "    <tr>\n",
              "      <th>8</th>\n",
              "      <td>0.1% tested COVID-19 positive in 16 days in To...</td>\n",
              "      <td>Ahead of Tokyo Olympics, IOC Corporate Communi...</td>\n",
              "      <td>sports</td>\n",
              "    </tr>\n",
              "    <tr>\n",
              "      <th>9</th>\n",
              "      <td>Sindhu has improved on her defence, worked on ...</td>\n",
              "      <td>India's foreign badminton coach Park Tae Sang ...</td>\n",
              "      <td>sports</td>\n",
              "    </tr>\n",
              "    <tr>\n",
              "      <th>10</th>\n",
              "      <td>GB Nagar DM to represent India in Tokyo Paraly...</td>\n",
              "      <td>Gautam Buddha Nagar District Magistrate (DM) S...</td>\n",
              "      <td>sports</td>\n",
              "    </tr>\n",
              "    <tr>\n",
              "      <th>11</th>\n",
              "      <td>Gareth Bale will not be part of Spurs for 2021...</td>\n",
              "      <td>Tottenham's new head coach Nuno Espírito Santo...</td>\n",
              "      <td>sports</td>\n",
              "    </tr>\n",
              "    <tr>\n",
              "      <th>12</th>\n",
              "      <td>SL-India series chance for Kuldeep Yadav, Mani...</td>\n",
              "      <td>Commentator Sanjay Manjrekar has said the Sri ...</td>\n",
              "      <td>sports</td>\n",
              "    </tr>\n",
              "    <tr>\n",
              "      <th>13</th>\n",
              "      <td>England need to understand that Pakistan are n...</td>\n",
              "      <td>Following Pakistan's 31-run win against Englan...</td>\n",
              "      <td>sports</td>\n",
              "    </tr>\n",
              "    <tr>\n",
              "      <th>14</th>\n",
              "      <td>Indian archers will script history at Tokyo Ol...</td>\n",
              "      <td>Archery Association of India (AAI) President A...</td>\n",
              "      <td>sports</td>\n",
              "    </tr>\n",
              "    <tr>\n",
              "      <th>15</th>\n",
              "      <td>No words can express my emotions: Nagal on qua...</td>\n",
              "      <td>After qualifying for the upcoming Tokyo Olympi...</td>\n",
              "      <td>sports</td>\n",
              "    </tr>\n",
              "    <tr>\n",
              "      <th>16</th>\n",
              "      <td>Jhulan, Mithali need support from other player...</td>\n",
              "      <td>India Women's head coach Ramesh Powar said cap...</td>\n",
              "      <td>sports</td>\n",
              "    </tr>\n",
              "    <tr>\n",
              "      <th>17</th>\n",
              "      <td>Both India, Sri Lanka have even chance in 1st ...</td>\n",
              "      <td>Talking about the first ODI against Shikhar Dh...</td>\n",
              "      <td>sports</td>\n",
              "    </tr>\n",
              "    <tr>\n",
              "      <th>18</th>\n",
              "      <td>Past Olympic failures will play on my mind: Ar...</td>\n",
              "      <td>Ahead of the Tokyo Olympics, world number one ...</td>\n",
              "      <td>sports</td>\n",
              "    </tr>\n",
              "    <tr>\n",
              "      <th>19</th>\n",
              "      <td>Pakistan are so unpredictably brilliant to wat...</td>\n",
              "      <td>After Pakistan's 31-run win against England in...</td>\n",
              "      <td>sports</td>\n",
              "    </tr>\n",
              "    <tr>\n",
              "      <th>20</th>\n",
              "      <td>Delhi Airport's T2 terminal to reopen from Jul...</td>\n",
              "      <td>Delhi Airport's Terminal 2 will resume operati...</td>\n",
              "      <td>national</td>\n",
              "    </tr>\n",
              "    <tr>\n",
              "      <th>21</th>\n",
              "      <td>Gambhir reaches island in Delhi by boat to pro...</td>\n",
              "      <td>BJP's Gautam Gambhir took a boat ride to provi...</td>\n",
              "      <td>national</td>\n",
              "    </tr>\n",
              "    <tr>\n",
              "      <th>22</th>\n",
              "      <td>Pawar meets PM Modi, says 'discussed issues of...</td>\n",
              "      <td>NCP chief Sharad Pawar on Saturday met Prime M...</td>\n",
              "      <td>national</td>\n",
              "    </tr>\n",
              "    <tr>\n",
              "      <th>23</th>\n",
              "      <td>Railway station where PM sold tea gets 'herita...</td>\n",
              "      <td>The Vadnagar Railway Station in Gujarat, where...</td>\n",
              "      <td>national</td>\n",
              "    </tr>\n",
              "    <tr>\n",
              "      <th>24</th>\n",
              "      <td>Railway Minister travels in train engine with ...</td>\n",
              "      <td>Railway Minister Ashwini Vaishnaw travelled in...</td>\n",
              "      <td>national</td>\n",
              "    </tr>\n",
              "    <tr>\n",
              "      <th>25</th>\n",
              "      <td>States can take 'Ganga Jal' from Haridwar in w...</td>\n",
              "      <td>Uttarakhand government on Saturday allowed sta...</td>\n",
              "      <td>national</td>\n",
              "    </tr>\n",
              "    <tr>\n",
              "      <th>26</th>\n",
              "      <td>Stan Swamy's death will 'remain a stain' on In...</td>\n",
              "      <td>The death of tribal rights activist Stan Swamy...</td>\n",
              "      <td>national</td>\n",
              "    </tr>\n",
              "    <tr>\n",
              "      <th>27</th>\n",
              "      <td>Diver rewarded for rescuing man stuck in Yamun...</td>\n",
              "      <td>A truck driver who got caught in the flow of t...</td>\n",
              "      <td>national</td>\n",
              "    </tr>\n",
              "    <tr>\n",
              "      <th>28</th>\n",
              "      <td>VP welcomes 14 colleges' move to offer regiona...</td>\n",
              "      <td>Vice President M Venkaiah Naidu has welcomed 1...</td>\n",
              "      <td>national</td>\n",
              "    </tr>\n",
              "    <tr>\n",
              "      <th>29</th>\n",
              "      <td>Talks stalled as Pak providing protection to t...</td>\n",
              "      <td>Senior Congress leader Digvijaya Singh has sai...</td>\n",
              "      <td>national</td>\n",
              "    </tr>\n",
              "    <tr>\n",
              "      <th>30</th>\n",
              "      <td>Man with criminal record shot dead in Pune</td>\n",
              "      <td>A man with a criminal record was shot dead at ...</td>\n",
              "      <td>national</td>\n",
              "    </tr>\n",
              "    <tr>\n",
              "      <th>31</th>\n",
              "      <td>History-sheeter Mushtaq Don dies after attack ...</td>\n",
              "      <td>A history-sheeter was murdered on Friday night...</td>\n",
              "      <td>national</td>\n",
              "    </tr>\n",
              "    <tr>\n",
              "      <th>32</th>\n",
              "      <td>UK national arrested for cheating Hyderabad wo...</td>\n",
              "      <td>A 34-year-old man from UK was arrested for all...</td>\n",
              "      <td>national</td>\n",
              "    </tr>\n",
              "    <tr>\n",
              "      <th>33</th>\n",
              "      <td>Inspector, sub-inspector suspended in Hyd over...</td>\n",
              "      <td>Rachakonda Police Commissioner Mahesh Bhagwat ...</td>\n",
              "      <td>national</td>\n",
              "    </tr>\n",
              "    <tr>\n",
              "      <th>34</th>\n",
              "      <td>2 friends drown in Hyderabad lake during birth...</td>\n",
              "      <td>Two youths drowned in a lake in Hyderabad whil...</td>\n",
              "      <td>national</td>\n",
              "    </tr>\n",
              "    <tr>\n",
              "      <th>35</th>\n",
              "      <td>BJP and NCP are two ends of a river: Maha mini...</td>\n",
              "      <td>After NCP chief Sharad Pawar on Saturday met P...</td>\n",
              "      <td>national</td>\n",
              "    </tr>\n",
              "    <tr>\n",
              "      <th>36</th>\n",
              "      <td>Dalit groom threatened for riding horse at his...</td>\n",
              "      <td>A man from the Dalit community was allegedly w...</td>\n",
              "      <td>national</td>\n",
              "    </tr>\n",
              "    <tr>\n",
              "      <th>37</th>\n",
              "      <td>Nandi Hills near Bengaluru to get ropeway soon...</td>\n",
              "      <td>The Karnataka Tourism Department has said that...</td>\n",
              "      <td>national</td>\n",
              "    </tr>\n",
              "    <tr>\n",
              "      <th>38</th>\n",
              "      <td>4 arrested for stealing car parts in Thane, 25...</td>\n",
              "      <td>Four persons who were allegedly involved in 25...</td>\n",
              "      <td>national</td>\n",
              "    </tr>\n",
              "    <tr>\n",
              "      <th>39</th>\n",
              "      <td>2 held for siphoning off ₹12 lakh from Mumbai ...</td>\n",
              "      <td>Police have arrested two cyber criminals from ...</td>\n",
              "      <td>national</td>\n",
              "    </tr>\n",
              "    <tr>\n",
              "      <th>40</th>\n",
              "      <td>Not at all: K'taka CM on being asked if he has...</td>\n",
              "      <td>Amid political crisis in Karnataka, Chief Mins...</td>\n",
              "      <td>politics</td>\n",
              "    </tr>\n",
              "    <tr>\n",
              "      <th>41</th>\n",
              "      <td>Cong doesn't need those who are afraid, they c...</td>\n",
              "      <td>Wayanad MP Rahul Gandhi on Friday said Congres...</td>\n",
              "      <td>politics</td>\n",
              "    </tr>\n",
              "    <tr>\n",
              "      <th>42</th>\n",
              "      <td>Know nothing about leadership change: K'taka C...</td>\n",
              "      <td>Karnataka Chief Minister BS Yediyurappa on Fri...</td>\n",
              "      <td>politics</td>\n",
              "    </tr>\n",
              "    <tr>\n",
              "      <th>43</th>\n",
              "      <td>Pawar meets PM Modi, says 'discussed issues of...</td>\n",
              "      <td>NCP chief Sharad Pawar on Saturday met Prime M...</td>\n",
              "      <td>politics</td>\n",
              "    </tr>\n",
              "    <tr>\n",
              "      <th>44</th>\n",
              "      <td>Rot in hell: Omar to those 'celebrating' India...</td>\n",
              "      <td>The erstwhile state of J&amp;K's former CM Omar Ab...</td>\n",
              "      <td>politics</td>\n",
              "    </tr>\n",
              "    <tr>\n",
              "      <th>45</th>\n",
              "      <td>ED attaches Anil Deshmukh's assets worth over ...</td>\n",
              "      <td>The Enforcement Directorate (ED) said on Frida...</td>\n",
              "      <td>politics</td>\n",
              "    </tr>\n",
              "    <tr>\n",
              "      <th>46</th>\n",
              "      <td>Uddhav urges PM to frame policy to stop gather...</td>\n",
              "      <td>Maharashtra Chief Minister Uddhav Thackeray on...</td>\n",
              "      <td>politics</td>\n",
              "    </tr>\n",
              "    <tr>\n",
              "      <th>47</th>\n",
              "      <td>TN CM urges PM Modi to reconsider decision to ...</td>\n",
              "      <td>Tamil Nadu CM MK Stalin requested Prime Minist...</td>\n",
              "      <td>politics</td>\n",
              "    </tr>\n",
              "    <tr>\n",
              "      <th>48</th>\n",
              "      <td>COVID-19 pandemic exposed gaping loopholes in ...</td>\n",
              "      <td>Congress leader P Chidambaram said that the CO...</td>\n",
              "      <td>politics</td>\n",
              "    </tr>\n",
              "    <tr>\n",
              "      <th>49</th>\n",
              "      <td>Urban men lost more jobs than women in 2nd COV...</td>\n",
              "      <td>Urban men lost more jobs than women during the...</td>\n",
              "      <td>politics</td>\n",
              "    </tr>\n",
              "    <tr>\n",
              "      <th>50</th>\n",
              "      <td>Punjab CM to remain chief ministerial face of ...</td>\n",
              "      <td>Punjab Congress in-charge Harish Rawat on Frid...</td>\n",
              "      <td>politics</td>\n",
              "    </tr>\n",
              "    <tr>\n",
              "      <th>51</th>\n",
              "      <td>Education being saffronised in BJP-ruled state...</td>\n",
              "      <td>West Bengal minister Bratya Basu alleged on Fr...</td>\n",
              "      <td>politics</td>\n",
              "    </tr>\n",
              "    <tr>\n",
              "      <th>52</th>\n",
              "      <td>Resume dialogue with agitating farmers: Punjab...</td>\n",
              "      <td>Citing growing cross-border threats and allege...</td>\n",
              "      <td>politics</td>\n",
              "    </tr>\n",
              "    <tr>\n",
              "      <th>53</th>\n",
              "      <td>Pakistan is creator of Taliban: Raut on Imran ...</td>\n",
              "      <td>Shiv Sena leader Sanjay Raut has said that Pak...</td>\n",
              "      <td>politics</td>\n",
              "    </tr>\n",
              "    <tr>\n",
              "      <th>54</th>\n",
              "      <td>Talks stalled as Pak providing protection to t...</td>\n",
              "      <td>Senior Congress leader Digvijaya Singh has sai...</td>\n",
              "      <td>politics</td>\n",
              "    </tr>\n",
              "    <tr>\n",
              "      <th>55</th>\n",
              "      <td>Cong leaders detained during protest against r...</td>\n",
              "      <td>Several Congress leaders and workers were deta...</td>\n",
              "      <td>politics</td>\n",
              "    </tr>\n",
              "    <tr>\n",
              "      <th>56</th>\n",
              "      <td>Democracy being destroyed in Uttar Pradesh, PM...</td>\n",
              "      <td>Congress General Secretary Priyanka Gandhi Vad...</td>\n",
              "      <td>politics</td>\n",
              "    </tr>\n",
              "    <tr>\n",
              "      <th>57</th>\n",
              "      <td>Man poses as ED officer to cheat TMC MP Santan...</td>\n",
              "      <td>A 38-year-old man Chandan Roy was arrested fro...</td>\n",
              "      <td>politics</td>\n",
              "    </tr>\n",
              "    <tr>\n",
              "      <th>58</th>\n",
              "      <td>PM's certificate can't hide UP CM's cruelty du...</td>\n",
              "      <td>Priyanka Gandhi Vadra on Friday criticised UP ...</td>\n",
              "      <td>politics</td>\n",
              "    </tr>\n",
              "    <tr>\n",
              "      <th>59</th>\n",
              "      <td>Petrol, diesel now more expensive than desi gh...</td>\n",
              "      <td>Taking a dig at the Centre over rising fuel pr...</td>\n",
              "      <td>politics</td>\n",
              "    </tr>\n",
              "  </tbody>\n",
              "</table>\n",
              "</div>"
            ],
            "text/plain": [
              "                                        news_headline  ... news_category\n",
              "0   1st COVID-19 case reported in Olympic Village ...  ...        sports\n",
              "1   PCB share 'From this to this' meme on young fa...  ...        sports\n",
              "2   England's Livingstone smashes 103(43) in T20I ...  ...        sports\n",
              "3   India-born Irish all-rounder Simi becomes 1st ...  ...        sports\n",
              "4   Olympic-bound Atanu shares pics from airport, ...  ...        sports\n",
              "5   How does the CWC Super League points table rea...  ...        sports\n",
              "6   Ben Stokes reveals he played against Pakistan ...  ...        sports\n",
              "7   2007 T20 World Cup win came 13 years ago, I ha...  ...        sports\n",
              "8   0.1% tested COVID-19 positive in 16 days in To...  ...        sports\n",
              "9   Sindhu has improved on her defence, worked on ...  ...        sports\n",
              "10  GB Nagar DM to represent India in Tokyo Paraly...  ...        sports\n",
              "11  Gareth Bale will not be part of Spurs for 2021...  ...        sports\n",
              "12  SL-India series chance for Kuldeep Yadav, Mani...  ...        sports\n",
              "13  England need to understand that Pakistan are n...  ...        sports\n",
              "14  Indian archers will script history at Tokyo Ol...  ...        sports\n",
              "15  No words can express my emotions: Nagal on qua...  ...        sports\n",
              "16  Jhulan, Mithali need support from other player...  ...        sports\n",
              "17  Both India, Sri Lanka have even chance in 1st ...  ...        sports\n",
              "18  Past Olympic failures will play on my mind: Ar...  ...        sports\n",
              "19  Pakistan are so unpredictably brilliant to wat...  ...        sports\n",
              "20  Delhi Airport's T2 terminal to reopen from Jul...  ...      national\n",
              "21  Gambhir reaches island in Delhi by boat to pro...  ...      national\n",
              "22  Pawar meets PM Modi, says 'discussed issues of...  ...      national\n",
              "23  Railway station where PM sold tea gets 'herita...  ...      national\n",
              "24  Railway Minister travels in train engine with ...  ...      national\n",
              "25  States can take 'Ganga Jal' from Haridwar in w...  ...      national\n",
              "26  Stan Swamy's death will 'remain a stain' on In...  ...      national\n",
              "27  Diver rewarded for rescuing man stuck in Yamun...  ...      national\n",
              "28  VP welcomes 14 colleges' move to offer regiona...  ...      national\n",
              "29  Talks stalled as Pak providing protection to t...  ...      national\n",
              "30         Man with criminal record shot dead in Pune  ...      national\n",
              "31  History-sheeter Mushtaq Don dies after attack ...  ...      national\n",
              "32  UK national arrested for cheating Hyderabad wo...  ...      national\n",
              "33  Inspector, sub-inspector suspended in Hyd over...  ...      national\n",
              "34  2 friends drown in Hyderabad lake during birth...  ...      national\n",
              "35  BJP and NCP are two ends of a river: Maha mini...  ...      national\n",
              "36  Dalit groom threatened for riding horse at his...  ...      national\n",
              "37  Nandi Hills near Bengaluru to get ropeway soon...  ...      national\n",
              "38  4 arrested for stealing car parts in Thane, 25...  ...      national\n",
              "39  2 held for siphoning off ₹12 lakh from Mumbai ...  ...      national\n",
              "40  Not at all: K'taka CM on being asked if he has...  ...      politics\n",
              "41  Cong doesn't need those who are afraid, they c...  ...      politics\n",
              "42  Know nothing about leadership change: K'taka C...  ...      politics\n",
              "43  Pawar meets PM Modi, says 'discussed issues of...  ...      politics\n",
              "44  Rot in hell: Omar to those 'celebrating' India...  ...      politics\n",
              "45  ED attaches Anil Deshmukh's assets worth over ...  ...      politics\n",
              "46  Uddhav urges PM to frame policy to stop gather...  ...      politics\n",
              "47  TN CM urges PM Modi to reconsider decision to ...  ...      politics\n",
              "48  COVID-19 pandemic exposed gaping loopholes in ...  ...      politics\n",
              "49  Urban men lost more jobs than women in 2nd COV...  ...      politics\n",
              "50  Punjab CM to remain chief ministerial face of ...  ...      politics\n",
              "51  Education being saffronised in BJP-ruled state...  ...      politics\n",
              "52  Resume dialogue with agitating farmers: Punjab...  ...      politics\n",
              "53  Pakistan is creator of Taliban: Raut on Imran ...  ...      politics\n",
              "54  Talks stalled as Pak providing protection to t...  ...      politics\n",
              "55  Cong leaders detained during protest against r...  ...      politics\n",
              "56  Democracy being destroyed in Uttar Pradesh, PM...  ...      politics\n",
              "57  Man poses as ED officer to cheat TMC MP Santan...  ...      politics\n",
              "58  PM's certificate can't hide UP CM's cruelty du...  ...      politics\n",
              "59  Petrol, diesel now more expensive than desi gh...  ...      politics\n",
              "\n",
              "[60 rows x 3 columns]"
            ]
          },
          "metadata": {
            "tags": []
          },
          "execution_count": 39
        },
        {
          "output_type": "stream",
          "text": [
            "time: 1.32 s (started: 2021-07-17 12:37:59 +00:00)\n"
          ],
          "name": "stdout"
        }
      ]
    },
    {
      "cell_type": "code",
      "metadata": {
        "colab": {
          "base_uri": "https://localhost:8080/"
        },
        "id": "9M7SY-qTUleE",
        "outputId": "787e0a6b-a589-4ad4-a9f5-48320b8e012c"
      },
      "source": [
        "df.to_csv('news.csv',index=False)\n",
        "\n"
      ],
      "execution_count": 40,
      "outputs": [
        {
          "output_type": "stream",
          "text": [
            "time: 5.9 ms (started: 2021-07-17 12:38:01 +00:00)\n"
          ],
          "name": "stdout"
        }
      ]
    },
    {
      "cell_type": "code",
      "metadata": {
        "colab": {
          "base_uri": "https://localhost:8080/"
        },
        "id": "FJyACH9GfrC-",
        "outputId": "e3486b4e-26ac-40e7-ac9b-fb526a349a87"
      },
      "source": [
        "#stopwords\n",
        "import nltk\n",
        "nltk.download('stopwords')\n",
        "stopword_list = nltk.corpus.stopwords.words('english')\n",
        "stopword_list.remove('no')\n",
        "stopword_list.remove('not')\n",
        "len(stopword_list)"
      ],
      "execution_count": 41,
      "outputs": [
        {
          "output_type": "stream",
          "text": [
            "[nltk_data] Downloading package stopwords to /root/nltk_data...\n",
            "[nltk_data]   Package stopwords is already up-to-date!\n"
          ],
          "name": "stdout"
        },
        {
          "output_type": "execute_result",
          "data": {
            "text/plain": [
              "177"
            ]
          },
          "metadata": {
            "tags": []
          },
          "execution_count": 41
        },
        {
          "output_type": "stream",
          "text": [
            "time: 78 ms (started: 2021-07-17 12:38:01 +00:00)\n"
          ],
          "name": "stdout"
        }
      ]
    },
    {
      "cell_type": "code",
      "metadata": {
        "colab": {
          "base_uri": "https://localhost:8080/",
          "height": 35
        },
        "id": "_B_28CtFhZO3",
        "outputId": "39bbaff3-18a9-4393-dbfb-1ed3a7d86794"
      },
      "source": [
        "#remove html tags\n",
        "def html_tag(text):\n",
        "  soup = BeautifulSoup(text,\"html.parser\")\n",
        "  new_text = soup.get_text()\n",
        "  return new_text\n",
        "\n",
        "html_tag('<html><h2> Some important info </h2></html>')\n",
        "  "
      ],
      "execution_count": 42,
      "outputs": [
        {
          "output_type": "execute_result",
          "data": {
            "application/vnd.google.colaboratory.intrinsic+json": {
              "type": "string"
            },
            "text/plain": [
              "' Some important info '"
            ]
          },
          "metadata": {
            "tags": []
          },
          "execution_count": 42
        },
        {
          "output_type": "stream",
          "text": [
            "time: 7.5 ms (started: 2021-07-17 12:38:01 +00:00)\n"
          ],
          "name": "stdout"
        }
      ]
    },
    {
      "cell_type": "code",
      "metadata": {
        "colab": {
          "base_uri": "https://localhost:8080/",
          "height": 102
        },
        "id": "5HrtKOjijWow",
        "outputId": "49e14fe1-814c-40ca-95f4-2592adbe2bac"
      },
      "source": [
        "# expand contractions\n",
        "!pip install contractions\n",
        "import contractions\n",
        "def con(text):\n",
        "  expand = contractions.fix(text)\n",
        "  return expand\n",
        "\n",
        "con(\"Y'all can't expand I'd think\")  \n"
      ],
      "execution_count": 43,
      "outputs": [
        {
          "output_type": "stream",
          "text": [
            "Requirement already satisfied: contractions in /usr/local/lib/python3.7/dist-packages (0.0.52)\n",
            "Requirement already satisfied: textsearch>=0.0.21 in /usr/local/lib/python3.7/dist-packages (from contractions) (0.0.21)\n",
            "Requirement already satisfied: pyahocorasick in /usr/local/lib/python3.7/dist-packages (from textsearch>=0.0.21->contractions) (1.4.2)\n",
            "Requirement already satisfied: anyascii in /usr/local/lib/python3.7/dist-packages (from textsearch>=0.0.21->contractions) (0.2.0)\n"
          ],
          "name": "stdout"
        },
        {
          "output_type": "execute_result",
          "data": {
            "application/vnd.google.colaboratory.intrinsic+json": {
              "type": "string"
            },
            "text/plain": [
              "'you all cannot expand I would think'"
            ]
          },
          "metadata": {
            "tags": []
          },
          "execution_count": 43
        },
        {
          "output_type": "stream",
          "text": [
            "time: 2.74 s (started: 2021-07-17 12:38:01 +00:00)\n"
          ],
          "name": "stdout"
        }
      ]
    },
    {
      "cell_type": "code",
      "metadata": {
        "colab": {
          "base_uri": "https://localhost:8080/",
          "height": 35
        },
        "id": "6TYW2BE9lMmj",
        "outputId": "430aea01-27b3-4e80-8c31-2a40abb3d9a6"
      },
      "source": [
        "#remove special characters\n",
        "import re\n",
        "def remove_sp(text):\n",
        "  pattern = r'[^A-Za-z0-9\\s]'\n",
        "  text = re.sub(pattern,'',text)\n",
        "  return text\n",
        "\n",
        "remove_sp(\"@#$sentiment analysis??\")  "
      ],
      "execution_count": 44,
      "outputs": [
        {
          "output_type": "execute_result",
          "data": {
            "application/vnd.google.colaboratory.intrinsic+json": {
              "type": "string"
            },
            "text/plain": [
              "'sentiment analysis'"
            ]
          },
          "metadata": {
            "tags": []
          },
          "execution_count": 44
        },
        {
          "output_type": "stream",
          "text": [
            "time: 6.54 ms (started: 2021-07-17 12:38:03 +00:00)\n"
          ],
          "name": "stdout"
        }
      ]
    },
    {
      "cell_type": "code",
      "metadata": {
        "colab": {
          "base_uri": "https://localhost:8080/"
        },
        "id": "-gfLUd41mX8A",
        "outputId": "0df34e35-d346-440b-d3ea-2a56eb2db0d1"
      },
      "source": [
        "#remove stopwords\n",
        "from nltk.tokenize.toktok import ToktokTokenizer\n",
        "tokenizer = ToktokTokenizer()\n",
        "def remove_stopwords(text):\n",
        "  tokens = tokenizer.tokenize(text)\n",
        "  tokens = [token.strip() for token in tokens]\n",
        "  filtered_tokens = [token for token in tokens if token not in stopword_list]\n",
        "  filtered_text = ' '.join(filtered_tokens)\n",
        "  return filtered_text\n",
        "  \n"
      ],
      "execution_count": 45,
      "outputs": [
        {
          "output_type": "stream",
          "text": [
            "time: 8.82 ms (started: 2021-07-17 12:38:03 +00:00)\n"
          ],
          "name": "stdout"
        }
      ]
    },
    {
      "cell_type": "code",
      "metadata": {
        "colab": {
          "base_uri": "https://localhost:8080/",
          "height": 35
        },
        "id": "HOhLToMgItiM",
        "outputId": "ae8ca800-12cd-4599-f694-24cab57194f2"
      },
      "source": [
        "remove_stopwords(\"The , and, if are all stopwords and even not\")"
      ],
      "execution_count": 46,
      "outputs": [
        {
          "output_type": "execute_result",
          "data": {
            "application/vnd.google.colaboratory.intrinsic+json": {
              "type": "string"
            },
            "text/plain": [
              "'The , , stopwords even not'"
            ]
          },
          "metadata": {
            "tags": []
          },
          "execution_count": 46
        },
        {
          "output_type": "stream",
          "text": [
            "time: 6.21 ms (started: 2021-07-17 12:38:03 +00:00)\n"
          ],
          "name": "stdout"
        }
      ]
    },
    {
      "cell_type": "code",
      "metadata": {
        "colab": {
          "base_uri": "https://localhost:8080/",
          "height": 1000
        },
        "id": "fYpyf4pqIv1r",
        "outputId": "ff59cc0b-5ebc-4503-9e0a-0e6d8f5acbdd"
      },
      "source": [
        "df.news_headline = df.news_headline.apply(lambda x:x.lower())\n",
        "df.news_article = df.news_article.apply(lambda x:x.lower())\n",
        "\n",
        "df.news_headline = df.news_headline.apply(html_tag)\n",
        "df.news_article = df.news_article.apply(html_tag)\n",
        "\n",
        "df.news_headline = df.news_headline.apply(con)\n",
        "df.news_article = df.news_article.apply(con)\n",
        "\n",
        "df.news_headline = df.news_headline.apply(remove_sp)\n",
        "df.news_article = df.news_article.apply(remove_sp)\n",
        "\n",
        "df.news_headline = df.news_headline.apply(remove_stopwords)\n",
        "df.news_article = df.news_article.apply(remove_stopwords)\n",
        "\n",
        "df\n",
        "\n"
      ],
      "execution_count": 47,
      "outputs": [
        {
          "output_type": "execute_result",
          "data": {
            "text/html": [
              "<div>\n",
              "<style scoped>\n",
              "    .dataframe tbody tr th:only-of-type {\n",
              "        vertical-align: middle;\n",
              "    }\n",
              "\n",
              "    .dataframe tbody tr th {\n",
              "        vertical-align: top;\n",
              "    }\n",
              "\n",
              "    .dataframe thead th {\n",
              "        text-align: right;\n",
              "    }\n",
              "</style>\n",
              "<table border=\"1\" class=\"dataframe\">\n",
              "  <thead>\n",
              "    <tr style=\"text-align: right;\">\n",
              "      <th></th>\n",
              "      <th>news_headline</th>\n",
              "      <th>news_article</th>\n",
              "      <th>news_category</th>\n",
              "    </tr>\n",
              "  </thead>\n",
              "  <tbody>\n",
              "    <tr>\n",
              "      <th>0</th>\n",
              "      <td>1st covid19 case reported olympic village 6 da...</td>\n",
              "      <td>first covid19 case reported olympic village si...</td>\n",
              "      <td>sports</td>\n",
              "    </tr>\n",
              "    <tr>\n",
              "      <th>1</th>\n",
              "      <td>pcb share meme young fan whose reaction went v...</td>\n",
              "      <td>pakistan cricket board pcb took twitter share ...</td>\n",
              "      <td>sports</td>\n",
              "    </tr>\n",
              "    <tr>\n",
              "      <th>2</th>\n",
              "      <td>englands livingstone smashes 10343 t20i vs pak...</td>\n",
              "      <td>englands 27yearold batsman liam livingstone sm...</td>\n",
              "      <td>sports</td>\n",
              "    </tr>\n",
              "    <tr>\n",
              "      <th>3</th>\n",
              "      <td>indiaborn irish allrounder simi becomes 1st cr...</td>\n",
              "      <td>indiaborn irish allrounder simi singh become f...</td>\n",
              "      <td>sports</td>\n",
              "    </tr>\n",
              "    <tr>\n",
              "      <th>4</th>\n",
              "      <td>olympicbound atanu shares pics airport says ge...</td>\n",
              "      <td>olympicbound indian archer atanu das took twit...</td>\n",
              "      <td>sports</td>\n",
              "    </tr>\n",
              "    <tr>\n",
              "      <th>5</th>\n",
              "      <td>cwc super league points table read south afric...</td>\n",
              "      <td>south africa friday defeated ireland 70 runs t...</td>\n",
              "      <td>sports</td>\n",
              "    </tr>\n",
              "    <tr>\n",
              "      <th>6</th>\n",
              "      <td>ben stokes reveals played pakistan despite rid...</td>\n",
              "      <td>allrounder ben stokes led england 30 odi serie...</td>\n",
              "      <td>sports</td>\n",
              "    </tr>\n",
              "    <tr>\n",
              "      <th>7</th>\n",
              "      <td>2007 t20 world cup win came 13 years ago forgo...</td>\n",
              "      <td>exindia opener gautam gambhir said forgotten i...</td>\n",
              "      <td>sports</td>\n",
              "    </tr>\n",
              "    <tr>\n",
              "      <th>8</th>\n",
              "      <td>01 tested covid19 positive 16 days tokyo ahead...</td>\n",
              "      <td>ahead tokyo olympics ioc corporate communicati...</td>\n",
              "      <td>sports</td>\n",
              "    </tr>\n",
              "    <tr>\n",
              "      <th>9</th>\n",
              "      <td>sindhu improved defence worked motion skills g...</td>\n",
              "      <td>indias foreign badminton coach park tae sang s...</td>\n",
              "      <td>sports</td>\n",
              "    </tr>\n",
              "    <tr>\n",
              "      <th>10</th>\n",
              "      <td>gb nagar dm represent india tokyo paralympics ...</td>\n",
              "      <td>gautam buddha nagar district magistrate dm suh...</td>\n",
              "      <td>sports</td>\n",
              "    </tr>\n",
              "    <tr>\n",
              "      <th>11</th>\n",
              "      <td>gareth bale not part spurs 202122 coach esprito</td>\n",
              "      <td>tottenhams new head coach nuno esprito santo c...</td>\n",
              "      <td>sports</td>\n",
              "    </tr>\n",
              "    <tr>\n",
              "      <th>12</th>\n",
              "      <td>slindia series chance kuldeep yadav manish pan...</td>\n",
              "      <td>commentator sanjay manjrekar said sri lankaind...</td>\n",
              "      <td>sports</td>\n",
              "    </tr>\n",
              "    <tr>\n",
              "      <th>13</th>\n",
              "      <td>england need understand pakistan no pushovers ...</td>\n",
              "      <td>following pakistans 31run win england first t2...</td>\n",
              "      <td>sports</td>\n",
              "    </tr>\n",
              "    <tr>\n",
              "      <th>14</th>\n",
              "      <td>indian archers script history tokyo olympics a...</td>\n",
              "      <td>archery association india aai president arjun ...</td>\n",
              "      <td>sports</td>\n",
              "    </tr>\n",
              "    <tr>\n",
              "      <th>15</th>\n",
              "      <td>no words express emotions nagal qualifying oly...</td>\n",
              "      <td>qualifying upcoming tokyo olympics world numbe...</td>\n",
              "      <td>sports</td>\n",
              "    </tr>\n",
              "    <tr>\n",
              "      <th>16</th>\n",
              "      <td>jhulan mithali need support players bowling ba...</td>\n",
              "      <td>india womens head coach ramesh powar said capt...</td>\n",
              "      <td>sports</td>\n",
              "    </tr>\n",
              "    <tr>\n",
              "      <th>17</th>\n",
              "      <td>india sri lanka even chance 1st odi sl captain...</td>\n",
              "      <td>talking first odi shikhar dhawanled india sri ...</td>\n",
              "      <td>sports</td>\n",
              "    </tr>\n",
              "    <tr>\n",
              "      <th>18</th>\n",
              "      <td>past olympic failures play mind archer deepika</td>\n",
              "      <td>ahead tokyo olympics world number one archer d...</td>\n",
              "      <td>sports</td>\n",
              "    </tr>\n",
              "    <tr>\n",
              "      <th>19</th>\n",
              "      <td>pakistan unpredictably brilliant watch vaughan</td>\n",
              "      <td>pakistans 31run win england first t20i friday ...</td>\n",
              "      <td>sports</td>\n",
              "    </tr>\n",
              "    <tr>\n",
              "      <th>20</th>\n",
              "      <td>delhi airports t2 terminal reopen july 22 2mon...</td>\n",
              "      <td>delhi airports terminal 2 resume operations ju...</td>\n",
              "      <td>national</td>\n",
              "    </tr>\n",
              "    <tr>\n",
              "      <th>21</th>\n",
              "      <td>gambhir reaches island delhi boat provide covi...</td>\n",
              "      <td>bjps gautam gambhir took boat ride provide cov...</td>\n",
              "      <td>national</td>\n",
              "    </tr>\n",
              "    <tr>\n",
              "      <th>22</th>\n",
              "      <td>pawar meets pm modi says discussed issues nati...</td>\n",
              "      <td>ncp chief sharad pawar saturday met prime mini...</td>\n",
              "      <td>national</td>\n",
              "    </tr>\n",
              "    <tr>\n",
              "      <th>23</th>\n",
              "      <td>railway station pm sold tea gets heritage look...</td>\n",
              "      <td>vadnagar railway station gujarat pm narendra m...</td>\n",
              "      <td>national</td>\n",
              "    </tr>\n",
              "    <tr>\n",
              "      <th>24</th>\n",
              "      <td>railway minister travels train engine loco pil...</td>\n",
              "      <td>railway minister ashwini vaishnaw travelled tr...</td>\n",
              "      <td>national</td>\n",
              "    </tr>\n",
              "    <tr>\n",
              "      <th>25</th>\n",
              "      <td>states take ganga jal haridwar water tankers y...</td>\n",
              "      <td>uttarakhand government saturday allowed states...</td>\n",
              "      <td>national</td>\n",
              "    </tr>\n",
              "    <tr>\n",
              "      <th>26</th>\n",
              "      <td>stan swamys death remain stain indias human ri...</td>\n",
              "      <td>death tribal rights activist stan swamy arrest...</td>\n",
              "      <td>national</td>\n",
              "    </tr>\n",
              "    <tr>\n",
              "      <th>27</th>\n",
              "      <td>diver rewarded rescuing man stuck yamuna river...</td>\n",
              "      <td>truck driver got caught flow yamuna river fari...</td>\n",
              "      <td>national</td>\n",
              "    </tr>\n",
              "    <tr>\n",
              "      <th>28</th>\n",
              "      <td>vp welcomes 14 colleges move offer regional la...</td>\n",
              "      <td>vice president venkaiah naidu welcomed 14 engi...</td>\n",
              "      <td>national</td>\n",
              "    </tr>\n",
              "    <tr>\n",
              "      <th>29</th>\n",
              "      <td>talks stalled pak providing protection terrori...</td>\n",
              "      <td>senior congress leader digvijaya singh said ta...</td>\n",
              "      <td>national</td>\n",
              "    </tr>\n",
              "    <tr>\n",
              "      <th>30</th>\n",
              "      <td>man criminal record shot dead pune</td>\n",
              "      <td>man criminal record shot dead nira village pur...</td>\n",
              "      <td>national</td>\n",
              "    </tr>\n",
              "    <tr>\n",
              "      <th>31</th>\n",
              "      <td>historysheeter mushtaq dies attack hyds old ma...</td>\n",
              "      <td>historysheeter murdered friday night unknown m...</td>\n",
              "      <td>national</td>\n",
              "    </tr>\n",
              "    <tr>\n",
              "      <th>32</th>\n",
              "      <td>uk national arrested cheating hyderabad woman ...</td>\n",
              "      <td>34yearold man uk arrested allegedly cheating h...</td>\n",
              "      <td>national</td>\n",
              "    </tr>\n",
              "    <tr>\n",
              "      <th>33</th>\n",
              "      <td>inspector subinspector suspended hyd bribery a...</td>\n",
              "      <td>rachakonda police commissioner mahesh bhagwat ...</td>\n",
              "      <td>national</td>\n",
              "    </tr>\n",
              "    <tr>\n",
              "      <th>34</th>\n",
              "      <td>2 friends drown hyderabad lake birthday celebr...</td>\n",
              "      <td>two youths drowned lake hyderabad celebrating ...</td>\n",
              "      <td>national</td>\n",
              "    </tr>\n",
              "    <tr>\n",
              "      <th>35</th>\n",
              "      <td>bjp ncp two ends river maha minister nawab malik</td>\n",
              "      <td>ncp chief sharad pawar saturday met pm narendr...</td>\n",
              "      <td>national</td>\n",
              "    </tr>\n",
              "    <tr>\n",
              "      <th>36</th>\n",
              "      <td>dalit groom threatened riding horse baraat meerut</td>\n",
              "      <td>man dalit community allegedly warned uppercast...</td>\n",
              "      <td>national</td>\n",
              "    </tr>\n",
              "    <tr>\n",
              "      <th>37</th>\n",
              "      <td>nandi hills near bengaluru get ropeway soon ka...</td>\n",
              "      <td>karnataka tourism department said hill station...</td>\n",
              "      <td>national</td>\n",
              "    </tr>\n",
              "    <tr>\n",
              "      <th>38</th>\n",
              "      <td>4 arrested stealing car parts thane 25 car sil...</td>\n",
              "      <td>four persons allegedly involved 25 cases theft...</td>\n",
              "      <td>national</td>\n",
              "    </tr>\n",
              "    <tr>\n",
              "      <th>39</th>\n",
              "      <td>2 held siphoning 12 lakh mumbai jeweller via s...</td>\n",
              "      <td>police arrested two cyber criminals noida mumb...</td>\n",
              "      <td>national</td>\n",
              "    </tr>\n",
              "    <tr>\n",
              "      <th>40</th>\n",
              "      <td>not ktaka cm asked resigned amid political crisis</td>\n",
              "      <td>amid political crisis karnataka chief minster ...</td>\n",
              "      <td>politics</td>\n",
              "    </tr>\n",
              "    <tr>\n",
              "      <th>41</th>\n",
              "      <td>cong not need afraid run rss rahul</td>\n",
              "      <td>wayanad mp rahul gandhi friday said congress n...</td>\n",
              "      <td>politics</td>\n",
              "    </tr>\n",
              "    <tr>\n",
              "      <th>42</th>\n",
              "      <td>know nothing leadership change ktaka cm meetin...</td>\n",
              "      <td>karnataka chief minister bs yediyurappa friday...</td>\n",
              "      <td>politics</td>\n",
              "    </tr>\n",
              "    <tr>\n",
              "      <th>43</th>\n",
              "      <td>pawar meets pm modi says discussed issues nati...</td>\n",
              "      <td>ncp chief sharad pawar saturday met prime mini...</td>\n",
              "      <td>politics</td>\n",
              "    </tr>\n",
              "    <tr>\n",
              "      <th>44</th>\n",
              "      <td>rot hell omar celebrating indian journalists d...</td>\n",
              "      <td>erstwhile state jks former cm omar abdullah fr...</td>\n",
              "      <td>politics</td>\n",
              "    </tr>\n",
              "    <tr>\n",
              "      <th>45</th>\n",
              "      <td>ed attaches anil deshmukhs assets worth 4 crore</td>\n",
              "      <td>enforcement directorate ed said friday attache...</td>\n",
              "      <td>politics</td>\n",
              "    </tr>\n",
              "    <tr>\n",
              "      <th>46</th>\n",
              "      <td>uddhav urges pm frame policy stop gatherings a...</td>\n",
              "      <td>maharashtra chief minister uddhav thackeray fr...</td>\n",
              "      <td>politics</td>\n",
              "    </tr>\n",
              "    <tr>\n",
              "      <th>47</th>\n",
              "      <td>tn cm urges pm modi reconsider decision conduc...</td>\n",
              "      <td>tamil nadu cm mk stalin requested prime minist...</td>\n",
              "      <td>politics</td>\n",
              "    </tr>\n",
              "    <tr>\n",
              "      <th>48</th>\n",
              "      <td>covid19 pandemic exposed gaping loopholes boas...</td>\n",
              "      <td>congress leader p chidambaram said covid19 pan...</td>\n",
              "      <td>politics</td>\n",
              "    </tr>\n",
              "    <tr>\n",
              "      <th>49</th>\n",
              "      <td>urban men lost jobs women 2nd covid19 wave cmie</td>\n",
              "      <td>urban men lost jobs women second wave covid19 ...</td>\n",
              "      <td>politics</td>\n",
              "    </tr>\n",
              "    <tr>\n",
              "      <th>50</th>\n",
              "      <td>punjab cm remain chief ministerial face congre...</td>\n",
              "      <td>punjab congress incharge harish rawat friday a...</td>\n",
              "      <td>politics</td>\n",
              "    </tr>\n",
              "    <tr>\n",
              "      <th>51</th>\n",
              "      <td>education saffronised bjpruled states wb minister</td>\n",
              "      <td>west bengal minister bratya basu alleged frida...</td>\n",
              "      <td>politics</td>\n",
              "    </tr>\n",
              "    <tr>\n",
              "      <th>52</th>\n",
              "      <td>resume dialogue agitating farmers punjab cm pm...</td>\n",
              "      <td>citing growing crossborder threats alleged ter...</td>\n",
              "      <td>politics</td>\n",
              "    </tr>\n",
              "    <tr>\n",
              "      <th>53</th>\n",
              "      <td>pakistan creator taliban raut imran khans rema...</td>\n",
              "      <td>shiv sena leader sanjay raut said pakistan cre...</td>\n",
              "      <td>politics</td>\n",
              "    </tr>\n",
              "    <tr>\n",
              "      <th>54</th>\n",
              "      <td>talks stalled pak providing protection terrori...</td>\n",
              "      <td>senior congress leader digvijaya singh said ta...</td>\n",
              "      <td>politics</td>\n",
              "    </tr>\n",
              "    <tr>\n",
              "      <th>55</th>\n",
              "      <td>cong leaders detained protest rising fuel pric...</td>\n",
              "      <td>several congress leaders workers detained hyde...</td>\n",
              "      <td>politics</td>\n",
              "    </tr>\n",
              "    <tr>\n",
              "      <th>56</th>\n",
              "      <td>democracy destroyed uttar pradesh pm oblivious...</td>\n",
              "      <td>congress general secretary priyanka gandhi vad...</td>\n",
              "      <td>politics</td>\n",
              "    </tr>\n",
              "    <tr>\n",
              "      <th>57</th>\n",
              "      <td>man poses ed officer cheat tmc mp santanu sen ...</td>\n",
              "      <td>38yearold man chandan roy arrested bus terminu...</td>\n",
              "      <td>politics</td>\n",
              "    </tr>\n",
              "    <tr>\n",
              "      <th>58</th>\n",
              "      <td>pms certificate cannot hide cms cruelty 2nd wa...</td>\n",
              "      <td>priyanka gandhi vadra friday criticised cm yog...</td>\n",
              "      <td>politics</td>\n",
              "    </tr>\n",
              "    <tr>\n",
              "      <th>59</th>\n",
              "      <td>petrol diesel expensive desi ghee sachin pilot</td>\n",
              "      <td>taking dig centre rising fuel prices senior co...</td>\n",
              "      <td>politics</td>\n",
              "    </tr>\n",
              "  </tbody>\n",
              "</table>\n",
              "</div>"
            ],
            "text/plain": [
              "                                        news_headline  ... news_category\n",
              "0   1st covid19 case reported olympic village 6 da...  ...        sports\n",
              "1   pcb share meme young fan whose reaction went v...  ...        sports\n",
              "2   englands livingstone smashes 10343 t20i vs pak...  ...        sports\n",
              "3   indiaborn irish allrounder simi becomes 1st cr...  ...        sports\n",
              "4   olympicbound atanu shares pics airport says ge...  ...        sports\n",
              "5   cwc super league points table read south afric...  ...        sports\n",
              "6   ben stokes reveals played pakistan despite rid...  ...        sports\n",
              "7   2007 t20 world cup win came 13 years ago forgo...  ...        sports\n",
              "8   01 tested covid19 positive 16 days tokyo ahead...  ...        sports\n",
              "9   sindhu improved defence worked motion skills g...  ...        sports\n",
              "10  gb nagar dm represent india tokyo paralympics ...  ...        sports\n",
              "11    gareth bale not part spurs 202122 coach esprito  ...        sports\n",
              "12  slindia series chance kuldeep yadav manish pan...  ...        sports\n",
              "13  england need understand pakistan no pushovers ...  ...        sports\n",
              "14  indian archers script history tokyo olympics a...  ...        sports\n",
              "15  no words express emotions nagal qualifying oly...  ...        sports\n",
              "16  jhulan mithali need support players bowling ba...  ...        sports\n",
              "17  india sri lanka even chance 1st odi sl captain...  ...        sports\n",
              "18     past olympic failures play mind archer deepika  ...        sports\n",
              "19     pakistan unpredictably brilliant watch vaughan  ...        sports\n",
              "20  delhi airports t2 terminal reopen july 22 2mon...  ...      national\n",
              "21  gambhir reaches island delhi boat provide covi...  ...      national\n",
              "22  pawar meets pm modi says discussed issues nati...  ...      national\n",
              "23  railway station pm sold tea gets heritage look...  ...      national\n",
              "24  railway minister travels train engine loco pil...  ...      national\n",
              "25  states take ganga jal haridwar water tankers y...  ...      national\n",
              "26  stan swamys death remain stain indias human ri...  ...      national\n",
              "27  diver rewarded rescuing man stuck yamuna river...  ...      national\n",
              "28  vp welcomes 14 colleges move offer regional la...  ...      national\n",
              "29  talks stalled pak providing protection terrori...  ...      national\n",
              "30                 man criminal record shot dead pune  ...      national\n",
              "31  historysheeter mushtaq dies attack hyds old ma...  ...      national\n",
              "32  uk national arrested cheating hyderabad woman ...  ...      national\n",
              "33  inspector subinspector suspended hyd bribery a...  ...      national\n",
              "34  2 friends drown hyderabad lake birthday celebr...  ...      national\n",
              "35   bjp ncp two ends river maha minister nawab malik  ...      national\n",
              "36  dalit groom threatened riding horse baraat meerut  ...      national\n",
              "37  nandi hills near bengaluru get ropeway soon ka...  ...      national\n",
              "38  4 arrested stealing car parts thane 25 car sil...  ...      national\n",
              "39  2 held siphoning 12 lakh mumbai jeweller via s...  ...      national\n",
              "40  not ktaka cm asked resigned amid political crisis  ...      politics\n",
              "41                 cong not need afraid run rss rahul  ...      politics\n",
              "42  know nothing leadership change ktaka cm meetin...  ...      politics\n",
              "43  pawar meets pm modi says discussed issues nati...  ...      politics\n",
              "44  rot hell omar celebrating indian journalists d...  ...      politics\n",
              "45    ed attaches anil deshmukhs assets worth 4 crore  ...      politics\n",
              "46  uddhav urges pm frame policy stop gatherings a...  ...      politics\n",
              "47  tn cm urges pm modi reconsider decision conduc...  ...      politics\n",
              "48  covid19 pandemic exposed gaping loopholes boas...  ...      politics\n",
              "49    urban men lost jobs women 2nd covid19 wave cmie  ...      politics\n",
              "50  punjab cm remain chief ministerial face congre...  ...      politics\n",
              "51  education saffronised bjpruled states wb minister  ...      politics\n",
              "52  resume dialogue agitating farmers punjab cm pm...  ...      politics\n",
              "53  pakistan creator taliban raut imran khans rema...  ...      politics\n",
              "54  talks stalled pak providing protection terrori...  ...      politics\n",
              "55  cong leaders detained protest rising fuel pric...  ...      politics\n",
              "56  democracy destroyed uttar pradesh pm oblivious...  ...      politics\n",
              "57  man poses ed officer cheat tmc mp santanu sen ...  ...      politics\n",
              "58  pms certificate cannot hide cms cruelty 2nd wa...  ...      politics\n",
              "59     petrol diesel expensive desi ghee sachin pilot  ...      politics\n",
              "\n",
              "[60 rows x 3 columns]"
            ]
          },
          "metadata": {
            "tags": []
          },
          "execution_count": 47
        },
        {
          "output_type": "stream",
          "text": [
            "time: 76 ms (started: 2021-07-17 12:38:03 +00:00)\n"
          ],
          "name": "stdout"
        }
      ]
    },
    {
      "cell_type": "code",
      "metadata": {
        "colab": {
          "base_uri": "https://localhost:8080/"
        },
        "id": "ZEzy6l7fhCjm",
        "outputId": "90aebc97-4f41-4f55-ec1d-1d27d8e5f8a3"
      },
      "source": [
        "df['news_category'].value_counts()"
      ],
      "execution_count": 48,
      "outputs": [
        {
          "output_type": "execute_result",
          "data": {
            "text/plain": [
              "national    20\n",
              "politics    20\n",
              "sports      20\n",
              "Name: news_category, dtype: int64"
            ]
          },
          "metadata": {
            "tags": []
          },
          "execution_count": 48
        },
        {
          "output_type": "stream",
          "text": [
            "time: 8.48 ms (started: 2021-07-17 12:38:04 +00:00)\n"
          ],
          "name": "stdout"
        }
      ]
    },
    {
      "cell_type": "code",
      "metadata": {
        "colab": {
          "base_uri": "https://localhost:8080/"
        },
        "id": "8v3iAoF-hN7i",
        "outputId": "1fbdcd84-dff9-45e3-fe5c-466b41ad8d02"
      },
      "source": [
        "df.info()"
      ],
      "execution_count": 49,
      "outputs": [
        {
          "output_type": "stream",
          "text": [
            "<class 'pandas.core.frame.DataFrame'>\n",
            "RangeIndex: 60 entries, 0 to 59\n",
            "Data columns (total 3 columns):\n",
            " #   Column         Non-Null Count  Dtype \n",
            "---  ------         --------------  ----- \n",
            " 0   news_headline  60 non-null     object\n",
            " 1   news_article   60 non-null     object\n",
            " 2   news_category  60 non-null     object\n",
            "dtypes: object(3)\n",
            "memory usage: 1.5+ KB\n",
            "time: 12.9 ms (started: 2021-07-17 12:38:04 +00:00)\n"
          ],
          "name": "stdout"
        }
      ]
    },
    {
      "cell_type": "code",
      "metadata": {
        "colab": {
          "base_uri": "https://localhost:8080/"
        },
        "id": "HmphtrpyhUTY",
        "outputId": "64501e61-c70a-4705-8edb-c92ee0359b83"
      },
      "source": [
        "df.isna().sum()"
      ],
      "execution_count": 50,
      "outputs": [
        {
          "output_type": "execute_result",
          "data": {
            "text/plain": [
              "news_headline    0\n",
              "news_article     0\n",
              "news_category    0\n",
              "dtype: int64"
            ]
          },
          "metadata": {
            "tags": []
          },
          "execution_count": 50
        },
        {
          "output_type": "stream",
          "text": [
            "time: 8.72 ms (started: 2021-07-17 12:38:04 +00:00)\n"
          ],
          "name": "stdout"
        }
      ]
    },
    {
      "cell_type": "code",
      "metadata": {
        "colab": {
          "base_uri": "https://localhost:8080/"
        },
        "id": "nIO9eJYjhpry",
        "outputId": "e606d52a-f8c9-4d1b-8173-364a88ae5ade"
      },
      "source": [
        "x = df['news_headline'].values\n",
        "y = df['news_category'].values"
      ],
      "execution_count": 51,
      "outputs": [
        {
          "output_type": "stream",
          "text": [
            "time: 3.34 ms (started: 2021-07-17 12:38:04 +00:00)\n"
          ],
          "name": "stdout"
        }
      ]
    },
    {
      "cell_type": "code",
      "metadata": {
        "colab": {
          "base_uri": "https://localhost:8080/"
        },
        "id": "TOnDD_LuiB_S",
        "outputId": "d7f8f34e-2a9e-4a77-fbb9-b666a66a203c"
      },
      "source": [
        "from sklearn.model_selection import train_test_split\n",
        "x_train,x_test,y_train,y_test = train_test_split(x,y,test_size=0.3,random_state=103)"
      ],
      "execution_count": 52,
      "outputs": [
        {
          "output_type": "stream",
          "text": [
            "time: 3.77 ms (started: 2021-07-17 12:38:04 +00:00)\n"
          ],
          "name": "stdout"
        }
      ]
    },
    {
      "cell_type": "code",
      "metadata": {
        "colab": {
          "base_uri": "https://localhost:8080/"
        },
        "id": "se8pIbfCiIbK",
        "outputId": "ccbe16b7-d874-46b1-8f2a-7e53d13b58d3"
      },
      "source": [
        "from sklearn.feature_extraction.text import CountVectorizer\n",
        "vect = CountVectorizer(stop_words='english')\n",
        "vect"
      ],
      "execution_count": 53,
      "outputs": [
        {
          "output_type": "execute_result",
          "data": {
            "text/plain": [
              "CountVectorizer(analyzer='word', binary=False, decode_error='strict',\n",
              "                dtype=<class 'numpy.int64'>, encoding='utf-8', input='content',\n",
              "                lowercase=True, max_df=1.0, max_features=None, min_df=1,\n",
              "                ngram_range=(1, 1), preprocessor=None, stop_words='english',\n",
              "                strip_accents=None, token_pattern='(?u)\\\\b\\\\w\\\\w+\\\\b',\n",
              "                tokenizer=None, vocabulary=None)"
            ]
          },
          "metadata": {
            "tags": []
          },
          "execution_count": 53
        },
        {
          "output_type": "stream",
          "text": [
            "time: 6.34 ms (started: 2021-07-17 12:38:04 +00:00)\n"
          ],
          "name": "stdout"
        }
      ]
    },
    {
      "cell_type": "code",
      "metadata": {
        "colab": {
          "base_uri": "https://localhost:8080/"
        },
        "id": "d2vP2q6wiWEb",
        "outputId": "9982b3f8-9769-4ed4-b13f-ea8eaf3b531a"
      },
      "source": [
        "x_train_vect = vect.fit_transform(x_train.astype(\"U\"))\n",
        "x_test_vect = vect.transform(x_test)"
      ],
      "execution_count": 54,
      "outputs": [
        {
          "output_type": "stream",
          "text": [
            "time: 7.43 ms (started: 2021-07-17 12:38:04 +00:00)\n"
          ],
          "name": "stdout"
        }
      ]
    },
    {
      "cell_type": "code",
      "metadata": {
        "colab": {
          "base_uri": "https://localhost:8080/"
        },
        "id": "ipYmM2VribV9",
        "outputId": "34bcfe42-b9e3-430d-d1df-409362822b3e"
      },
      "source": [
        "from sklearn.svm import SVC\n",
        "model = SVC()\n",
        "model.fit(x_train_vect,y_train)"
      ],
      "execution_count": 55,
      "outputs": [
        {
          "output_type": "execute_result",
          "data": {
            "text/plain": [
              "SVC(C=1.0, break_ties=False, cache_size=200, class_weight=None, coef0=0.0,\n",
              "    decision_function_shape='ovr', degree=3, gamma='scale', kernel='rbf',\n",
              "    max_iter=-1, probability=False, random_state=None, shrinking=True,\n",
              "    tol=0.001, verbose=False)"
            ]
          },
          "metadata": {
            "tags": []
          },
          "execution_count": 55
        },
        {
          "output_type": "stream",
          "text": [
            "time: 13 ms (started: 2021-07-17 12:38:04 +00:00)\n"
          ],
          "name": "stdout"
        }
      ]
    },
    {
      "cell_type": "code",
      "metadata": {
        "colab": {
          "base_uri": "https://localhost:8080/"
        },
        "id": "LiehlKouikn6",
        "outputId": "9e169809-f81b-42f7-cca9-a397cc0d8b18"
      },
      "source": [
        "y_pred = model.predict(x_test_vect)"
      ],
      "execution_count": 56,
      "outputs": [
        {
          "output_type": "stream",
          "text": [
            "time: 2.72 ms (started: 2021-07-17 12:38:04 +00:00)\n"
          ],
          "name": "stdout"
        }
      ]
    },
    {
      "cell_type": "code",
      "metadata": {
        "colab": {
          "base_uri": "https://localhost:8080/"
        },
        "id": "rhAv0hO_ima4",
        "outputId": "25bc9584-3d11-4c58-9516-9c2c1ae993f1"
      },
      "source": [
        "from sklearn.metrics import accuracy_score,classification_report\n",
        "\n",
        "accuracy_score(y_pred,y_test)"
      ],
      "execution_count": 57,
      "outputs": [
        {
          "output_type": "execute_result",
          "data": {
            "text/plain": [
              "0.3333333333333333"
            ]
          },
          "metadata": {
            "tags": []
          },
          "execution_count": 57
        },
        {
          "output_type": "stream",
          "text": [
            "time: 18.2 ms (started: 2021-07-17 12:38:04 +00:00)\n"
          ],
          "name": "stdout"
        }
      ]
    },
    {
      "cell_type": "code",
      "metadata": {
        "colab": {
          "base_uri": "https://localhost:8080/"
        },
        "id": "Fiy7JVZFi5Kh",
        "outputId": "8a0bfb63-1cd0-4d97-ccc0-de186ab20e5c"
      },
      "source": [
        "print(classification_report(y_pred,y_test))"
      ],
      "execution_count": 58,
      "outputs": [
        {
          "output_type": "stream",
          "text": [
            "              precision    recall  f1-score   support\n",
            "\n",
            "    national       0.00      0.00      0.00         0\n",
            "    politics       0.33      0.67      0.44         3\n",
            "      sports       1.00      0.27      0.42        15\n",
            "\n",
            "    accuracy                           0.33        18\n",
            "   macro avg       0.44      0.31      0.29        18\n",
            "weighted avg       0.89      0.33      0.42        18\n",
            "\n",
            "time: 12 ms (started: 2021-07-17 12:38:04 +00:00)\n"
          ],
          "name": "stdout"
        },
        {
          "output_type": "stream",
          "text": [
            "/usr/local/lib/python3.7/dist-packages/sklearn/metrics/_classification.py:1272: UndefinedMetricWarning: Recall and F-score are ill-defined and being set to 0.0 in labels with no true samples. Use `zero_division` parameter to control this behavior.\n",
            "  _warn_prf(average, modifier, msg_start, len(result))\n"
          ],
          "name": "stderr"
        }
      ]
    },
    {
      "cell_type": "code",
      "metadata": {
        "colab": {
          "base_uri": "https://localhost:8080/",
          "height": 35
        },
        "id": "bPAIFaDwjhPr",
        "outputId": "d564c857-0670-484c-ae69-594d97ba4db0"
      },
      "source": [
        "test = df['news_headline'][5]\n",
        "test"
      ],
      "execution_count": 59,
      "outputs": [
        {
          "output_type": "execute_result",
          "data": {
            "application/vnd.google.colaboratory.intrinsic+json": {
              "type": "string"
            },
            "text/plain": [
              "'cwc super league points table read south africaireland series'"
            ]
          },
          "metadata": {
            "tags": []
          },
          "execution_count": 59
        },
        {
          "output_type": "stream",
          "text": [
            "time: 3.87 ms (started: 2021-07-17 12:38:04 +00:00)\n"
          ],
          "name": "stdout"
        }
      ]
    },
    {
      "cell_type": "code",
      "metadata": {
        "colab": {
          "base_uri": "https://localhost:8080/",
          "height": 35
        },
        "id": "UH0RBdlcjw1L",
        "outputId": "907d8823-b6e9-4e27-ffd9-4b83a59bbbce"
      },
      "source": [
        "df['news_category'][5]"
      ],
      "execution_count": 60,
      "outputs": [
        {
          "output_type": "execute_result",
          "data": {
            "application/vnd.google.colaboratory.intrinsic+json": {
              "type": "string"
            },
            "text/plain": [
              "'sports'"
            ]
          },
          "metadata": {
            "tags": []
          },
          "execution_count": 60
        },
        {
          "output_type": "stream",
          "text": [
            "time: 5.52 ms (started: 2021-07-17 12:38:04 +00:00)\n"
          ],
          "name": "stdout"
        }
      ]
    },
    {
      "cell_type": "code",
      "metadata": {
        "colab": {
          "base_uri": "https://localhost:8080/"
        },
        "id": "_l-7Ij0Wj5C6",
        "outputId": "177787e3-9b6a-43ca-9839-1f652aea5e97"
      },
      "source": [
        "test = vect.transform([df['news_headline'][5]])\n",
        "model.predict(test)"
      ],
      "execution_count": 61,
      "outputs": [
        {
          "output_type": "execute_result",
          "data": {
            "text/plain": [
              "array(['sports'], dtype=object)"
            ]
          },
          "metadata": {
            "tags": []
          },
          "execution_count": 61
        },
        {
          "output_type": "stream",
          "text": [
            "time: 8.39 ms (started: 2021-07-17 12:38:04 +00:00)\n"
          ],
          "name": "stdout"
        }
      ]
    },
    {
      "cell_type": "code",
      "metadata": {
        "colab": {
          "base_uri": "https://localhost:8080/"
        },
        "id": "SF_RdbQwkHOR",
        "outputId": "bcfd17d3-78c7-411d-ceb0-a9d031f33122"
      },
      "source": [
        "from sklearn.pipeline import make_pipeline\n",
        "text_model = make_pipeline(CountVectorizer(),SVC())\n",
        "\n",
        "text_model.fit(x_train,y_train)\n",
        "\n",
        "y_pred = text_model.predict(x_test)\n",
        "y_pred"
      ],
      "execution_count": 62,
      "outputs": [
        {
          "output_type": "execute_result",
          "data": {
            "text/plain": [
              "array(['politics', 'sports', 'sports', 'sports', 'sports', 'politics',\n",
              "       'sports', 'sports', 'sports', 'sports', 'sports', 'sports',\n",
              "       'politics', 'sports', 'sports', 'sports', 'politics', 'sports'],\n",
              "      dtype=object)"
            ]
          },
          "metadata": {
            "tags": []
          },
          "execution_count": 62
        },
        {
          "output_type": "stream",
          "text": [
            "time: 18.1 ms (started: 2021-07-17 12:38:04 +00:00)\n"
          ],
          "name": "stdout"
        }
      ]
    },
    {
      "cell_type": "code",
      "metadata": {
        "colab": {
          "base_uri": "https://localhost:8080/"
        },
        "id": "JAj8dasjkLfT",
        "outputId": "97e6d24b-0678-4a5a-c1a9-f72a59d62206"
      },
      "source": [
        "text_model.predict([df['news_headline'][30]])"
      ],
      "execution_count": 63,
      "outputs": [
        {
          "output_type": "execute_result",
          "data": {
            "text/plain": [
              "array(['national'], dtype=object)"
            ]
          },
          "metadata": {
            "tags": []
          },
          "execution_count": 63
        },
        {
          "output_type": "stream",
          "text": [
            "time: 15.8 ms (started: 2021-07-17 12:38:04 +00:00)\n"
          ],
          "name": "stdout"
        }
      ]
    },
    {
      "cell_type": "code",
      "metadata": {
        "colab": {
          "base_uri": "https://localhost:8080/"
        },
        "id": "-7W3sDQVkewD",
        "outputId": "0ad3fb5d-7c01-4372-edbd-f7c8f3a87bf8"
      },
      "source": [
        "text_model"
      ],
      "execution_count": 64,
      "outputs": [
        {
          "output_type": "execute_result",
          "data": {
            "text/plain": [
              "Pipeline(memory=None,\n",
              "         steps=[('countvectorizer',\n",
              "                 CountVectorizer(analyzer='word', binary=False,\n",
              "                                 decode_error='strict',\n",
              "                                 dtype=<class 'numpy.int64'>, encoding='utf-8',\n",
              "                                 input='content', lowercase=True, max_df=1.0,\n",
              "                                 max_features=None, min_df=1,\n",
              "                                 ngram_range=(1, 1), preprocessor=None,\n",
              "                                 stop_words=None, strip_accents=None,\n",
              "                                 token_pattern='(?u)\\\\b\\\\w\\\\w+\\\\b',\n",
              "                                 tokenizer=None, vocabulary=None)),\n",
              "                ('svc',\n",
              "                 SVC(C=1.0, break_ties=False, cache_size=200, class_weight=None,\n",
              "                     coef0=0.0, decision_function_shape='ovr', degree=3,\n",
              "                     gamma='scale', kernel='rbf', max_iter=-1,\n",
              "                     probability=False, random_state=None, shrinking=True,\n",
              "                     tol=0.001, verbose=False))],\n",
              "         verbose=False)"
            ]
          },
          "metadata": {
            "tags": []
          },
          "execution_count": 64
        },
        {
          "output_type": "stream",
          "text": [
            "time: 13.8 ms (started: 2021-07-17 12:38:04 +00:00)\n"
          ],
          "name": "stdout"
        }
      ]
    },
    {
      "cell_type": "code",
      "metadata": {
        "colab": {
          "base_uri": "https://localhost:8080/"
        },
        "id": "Oq8ZsAtCklux",
        "outputId": "2fabc05a-e16d-4b67-ae7b-b0df54f8f054"
      },
      "source": [
        "import joblib\n",
        "joblib.dump(text_model,'Sentiment-Analysis')"
      ],
      "execution_count": 65,
      "outputs": [
        {
          "output_type": "execute_result",
          "data": {
            "text/plain": [
              "['Sentiment-Analysis']"
            ]
          },
          "metadata": {
            "tags": []
          },
          "execution_count": 65
        },
        {
          "output_type": "stream",
          "text": [
            "time: 21.8 ms (started: 2021-07-17 12:38:04 +00:00)\n"
          ],
          "name": "stdout"
        }
      ]
    },
    {
      "cell_type": "code",
      "metadata": {
        "colab": {
          "base_uri": "https://localhost:8080/",
          "height": 1000
        },
        "id": "QkNBf44Nkp3v",
        "outputId": "ec1189d2-a1da-41d4-9fd0-1ab0d3aa4168"
      },
      "source": [
        "df['compound'] = df['news_article'].apply(lambda x: vs.polarity_scores(x))\n",
        "df"
      ],
      "execution_count": 66,
      "outputs": [
        {
          "output_type": "execute_result",
          "data": {
            "text/html": [
              "<div>\n",
              "<style scoped>\n",
              "    .dataframe tbody tr th:only-of-type {\n",
              "        vertical-align: middle;\n",
              "    }\n",
              "\n",
              "    .dataframe tbody tr th {\n",
              "        vertical-align: top;\n",
              "    }\n",
              "\n",
              "    .dataframe thead th {\n",
              "        text-align: right;\n",
              "    }\n",
              "</style>\n",
              "<table border=\"1\" class=\"dataframe\">\n",
              "  <thead>\n",
              "    <tr style=\"text-align: right;\">\n",
              "      <th></th>\n",
              "      <th>news_headline</th>\n",
              "      <th>news_article</th>\n",
              "      <th>news_category</th>\n",
              "      <th>compound</th>\n",
              "    </tr>\n",
              "  </thead>\n",
              "  <tbody>\n",
              "    <tr>\n",
              "      <th>0</th>\n",
              "      <td>1st covid19 case reported olympic village 6 da...</td>\n",
              "      <td>first covid19 case reported olympic village si...</td>\n",
              "      <td>sports</td>\n",
              "      <td>{'neg': 0.0, 'neu': 0.879, 'pos': 0.121, 'comp...</td>\n",
              "    </tr>\n",
              "    <tr>\n",
              "      <th>1</th>\n",
              "      <td>pcb share meme young fan whose reaction went v...</td>\n",
              "      <td>pakistan cricket board pcb took twitter share ...</td>\n",
              "      <td>sports</td>\n",
              "      <td>{'neg': 0.07, 'neu': 0.636, 'pos': 0.293, 'com...</td>\n",
              "    </tr>\n",
              "    <tr>\n",
              "      <th>2</th>\n",
              "      <td>englands livingstone smashes 10343 t20i vs pak...</td>\n",
              "      <td>englands 27yearold batsman liam livingstone sm...</td>\n",
              "      <td>sports</td>\n",
              "      <td>{'neg': 0.0, 'neu': 0.93, 'pos': 0.07, 'compou...</td>\n",
              "    </tr>\n",
              "    <tr>\n",
              "      <th>3</th>\n",
              "      <td>indiaborn irish allrounder simi becomes 1st cr...</td>\n",
              "      <td>indiaborn irish allrounder simi singh become f...</td>\n",
              "      <td>sports</td>\n",
              "      <td>{'neg': 0.0, 'neu': 0.962, 'pos': 0.038, 'comp...</td>\n",
              "    </tr>\n",
              "    <tr>\n",
              "      <th>4</th>\n",
              "      <td>olympicbound atanu shares pics airport says ge...</td>\n",
              "      <td>olympicbound indian archer atanu das took twit...</td>\n",
              "      <td>sports</td>\n",
              "      <td>{'neg': 0.0, 'neu': 0.734, 'pos': 0.266, 'comp...</td>\n",
              "    </tr>\n",
              "    <tr>\n",
              "      <th>5</th>\n",
              "      <td>cwc super league points table read south afric...</td>\n",
              "      <td>south africa friday defeated ireland 70 runs t...</td>\n",
              "      <td>sports</td>\n",
              "      <td>{'neg': 0.069, 'neu': 0.844, 'pos': 0.087, 'co...</td>\n",
              "    </tr>\n",
              "    <tr>\n",
              "      <th>6</th>\n",
              "      <td>ben stokes reveals played pakistan despite rid...</td>\n",
              "      <td>allrounder ben stokes led england 30 odi serie...</td>\n",
              "      <td>sports</td>\n",
              "      <td>{'neg': 0.181, 'neu': 0.702, 'pos': 0.117, 'co...</td>\n",
              "    </tr>\n",
              "    <tr>\n",
              "      <th>7</th>\n",
              "      <td>2007 t20 world cup win came 13 years ago forgo...</td>\n",
              "      <td>exindia opener gautam gambhir said forgotten i...</td>\n",
              "      <td>sports</td>\n",
              "      <td>{'neg': 0.098, 'neu': 0.68, 'pos': 0.222, 'com...</td>\n",
              "    </tr>\n",
              "    <tr>\n",
              "      <th>8</th>\n",
              "      <td>01 tested covid19 positive 16 days tokyo ahead...</td>\n",
              "      <td>ahead tokyo olympics ioc corporate communicati...</td>\n",
              "      <td>sports</td>\n",
              "      <td>{'neg': 0.0, 'neu': 0.915, 'pos': 0.085, 'comp...</td>\n",
              "    </tr>\n",
              "    <tr>\n",
              "      <th>9</th>\n",
              "      <td>sindhu improved defence worked motion skills g...</td>\n",
              "      <td>indias foreign badminton coach park tae sang s...</td>\n",
              "      <td>sports</td>\n",
              "      <td>{'neg': 0.0, 'neu': 0.664, 'pos': 0.336, 'comp...</td>\n",
              "    </tr>\n",
              "    <tr>\n",
              "      <th>10</th>\n",
              "      <td>gb nagar dm represent india tokyo paralympics ...</td>\n",
              "      <td>gautam buddha nagar district magistrate dm suh...</td>\n",
              "      <td>sports</td>\n",
              "      <td>{'neg': 0.079, 'neu': 0.784, 'pos': 0.137, 'co...</td>\n",
              "    </tr>\n",
              "    <tr>\n",
              "      <th>11</th>\n",
              "      <td>gareth bale not part spurs 202122 coach esprito</td>\n",
              "      <td>tottenhams new head coach nuno esprito santo c...</td>\n",
              "      <td>sports</td>\n",
              "      <td>{'neg': 0.0, 'neu': 1.0, 'pos': 0.0, 'compound...</td>\n",
              "    </tr>\n",
              "    <tr>\n",
              "      <th>12</th>\n",
              "      <td>slindia series chance kuldeep yadav manish pan...</td>\n",
              "      <td>commentator sanjay manjrekar said sri lankaind...</td>\n",
              "      <td>sports</td>\n",
              "      <td>{'neg': 0.04, 'neu': 0.909, 'pos': 0.051, 'com...</td>\n",
              "    </tr>\n",
              "    <tr>\n",
              "      <th>13</th>\n",
              "      <td>england need understand pakistan no pushovers ...</td>\n",
              "      <td>following pakistans 31run win england first t2...</td>\n",
              "      <td>sports</td>\n",
              "      <td>{'neg': 0.082, 'neu': 0.677, 'pos': 0.24, 'com...</td>\n",
              "    </tr>\n",
              "    <tr>\n",
              "      <th>14</th>\n",
              "      <td>indian archers script history tokyo olympics a...</td>\n",
              "      <td>archery association india aai president arjun ...</td>\n",
              "      <td>sports</td>\n",
              "      <td>{'neg': 0.0, 'neu': 0.749, 'pos': 0.251, 'comp...</td>\n",
              "    </tr>\n",
              "    <tr>\n",
              "      <th>15</th>\n",
              "      <td>no words express emotions nagal qualifying oly...</td>\n",
              "      <td>qualifying upcoming tokyo olympics world numbe...</td>\n",
              "      <td>sports</td>\n",
              "      <td>{'neg': 0.056, 'neu': 0.687, 'pos': 0.257, 'co...</td>\n",
              "    </tr>\n",
              "    <tr>\n",
              "      <th>16</th>\n",
              "      <td>jhulan mithali need support players bowling ba...</td>\n",
              "      <td>india womens head coach ramesh powar said capt...</td>\n",
              "      <td>sports</td>\n",
              "      <td>{'neg': 0.0, 'neu': 0.793, 'pos': 0.207, 'comp...</td>\n",
              "    </tr>\n",
              "    <tr>\n",
              "      <th>17</th>\n",
              "      <td>india sri lanka even chance 1st odi sl captain...</td>\n",
              "      <td>talking first odi shikhar dhawanled india sri ...</td>\n",
              "      <td>sports</td>\n",
              "      <td>{'neg': 0.043, 'neu': 0.79, 'pos': 0.167, 'com...</td>\n",
              "    </tr>\n",
              "    <tr>\n",
              "      <th>18</th>\n",
              "      <td>past olympic failures play mind archer deepika</td>\n",
              "      <td>ahead tokyo olympics world number one archer d...</td>\n",
              "      <td>sports</td>\n",
              "      <td>{'neg': 0.197, 'neu': 0.623, 'pos': 0.18, 'com...</td>\n",
              "    </tr>\n",
              "    <tr>\n",
              "      <th>19</th>\n",
              "      <td>pakistan unpredictably brilliant watch vaughan</td>\n",
              "      <td>pakistans 31run win england first t20i friday ...</td>\n",
              "      <td>sports</td>\n",
              "      <td>{'neg': 0.047, 'neu': 0.749, 'pos': 0.204, 'co...</td>\n",
              "    </tr>\n",
              "    <tr>\n",
              "      <th>20</th>\n",
              "      <td>delhi airports t2 terminal reopen july 22 2mon...</td>\n",
              "      <td>delhi airports terminal 2 resume operations ju...</td>\n",
              "      <td>national</td>\n",
              "      <td>{'neg': 0.0, 'neu': 1.0, 'pos': 0.0, 'compound...</td>\n",
              "    </tr>\n",
              "    <tr>\n",
              "      <th>21</th>\n",
              "      <td>gambhir reaches island delhi boat provide covi...</td>\n",
              "      <td>bjps gautam gambhir took boat ride provide cov...</td>\n",
              "      <td>national</td>\n",
              "      <td>{'neg': 0.028, 'neu': 0.9, 'pos': 0.072, 'comp...</td>\n",
              "    </tr>\n",
              "    <tr>\n",
              "      <th>22</th>\n",
              "      <td>pawar meets pm modi says discussed issues nati...</td>\n",
              "      <td>ncp chief sharad pawar saturday met prime mini...</td>\n",
              "      <td>national</td>\n",
              "      <td>{'neg': 0.0, 'neu': 0.873, 'pos': 0.127, 'comp...</td>\n",
              "    </tr>\n",
              "    <tr>\n",
              "      <th>23</th>\n",
              "      <td>railway station pm sold tea gets heritage look...</td>\n",
              "      <td>vadnagar railway station gujarat pm narendra m...</td>\n",
              "      <td>national</td>\n",
              "      <td>{'neg': 0.0, 'neu': 0.932, 'pos': 0.068, 'comp...</td>\n",
              "    </tr>\n",
              "    <tr>\n",
              "      <th>24</th>\n",
              "      <td>railway minister travels train engine loco pil...</td>\n",
              "      <td>railway minister ashwini vaishnaw travelled tr...</td>\n",
              "      <td>national</td>\n",
              "      <td>{'neg': 0.078, 'neu': 0.867, 'pos': 0.055, 'co...</td>\n",
              "    </tr>\n",
              "    <tr>\n",
              "      <th>25</th>\n",
              "      <td>states take ganga jal haridwar water tankers y...</td>\n",
              "      <td>uttarakhand government saturday allowed states...</td>\n",
              "      <td>national</td>\n",
              "      <td>{'neg': 0.121, 'neu': 0.793, 'pos': 0.086, 'co...</td>\n",
              "    </tr>\n",
              "    <tr>\n",
              "      <th>26</th>\n",
              "      <td>stan swamys death remain stain indias human ri...</td>\n",
              "      <td>death tribal rights activist stan swamy arrest...</td>\n",
              "      <td>national</td>\n",
              "      <td>{'neg': 0.253, 'neu': 0.666, 'pos': 0.08, 'com...</td>\n",
              "    </tr>\n",
              "    <tr>\n",
              "      <th>27</th>\n",
              "      <td>diver rewarded rescuing man stuck yamuna river...</td>\n",
              "      <td>truck driver got caught flow yamuna river fari...</td>\n",
              "      <td>national</td>\n",
              "      <td>{'neg': 0.063, 'neu': 0.688, 'pos': 0.249, 'co...</td>\n",
              "    </tr>\n",
              "    <tr>\n",
              "      <th>28</th>\n",
              "      <td>vp welcomes 14 colleges move offer regional la...</td>\n",
              "      <td>vice president venkaiah naidu welcomed 14 engi...</td>\n",
              "      <td>national</td>\n",
              "      <td>{'neg': 0.0, 'neu': 0.864, 'pos': 0.136, 'comp...</td>\n",
              "    </tr>\n",
              "    <tr>\n",
              "      <th>29</th>\n",
              "      <td>talks stalled pak providing protection terrori...</td>\n",
              "      <td>senior congress leader digvijaya singh said ta...</td>\n",
              "      <td>national</td>\n",
              "      <td>{'neg': 0.332, 'neu': 0.668, 'pos': 0.0, 'comp...</td>\n",
              "    </tr>\n",
              "    <tr>\n",
              "      <th>30</th>\n",
              "      <td>man criminal record shot dead pune</td>\n",
              "      <td>man criminal record shot dead nira village pur...</td>\n",
              "      <td>national</td>\n",
              "      <td>{'neg': 0.418, 'neu': 0.582, 'pos': 0.0, 'comp...</td>\n",
              "    </tr>\n",
              "    <tr>\n",
              "      <th>31</th>\n",
              "      <td>historysheeter mushtaq dies attack hyds old ma...</td>\n",
              "      <td>historysheeter murdered friday night unknown m...</td>\n",
              "      <td>national</td>\n",
              "      <td>{'neg': 0.266, 'neu': 0.698, 'pos': 0.036, 'co...</td>\n",
              "    </tr>\n",
              "    <tr>\n",
              "      <th>32</th>\n",
              "      <td>uk national arrested cheating hyderabad woman ...</td>\n",
              "      <td>34yearold man uk arrested allegedly cheating h...</td>\n",
              "      <td>national</td>\n",
              "      <td>{'neg': 0.204, 'neu': 0.796, 'pos': 0.0, 'comp...</td>\n",
              "    </tr>\n",
              "    <tr>\n",
              "      <th>33</th>\n",
              "      <td>inspector subinspector suspended hyd bribery a...</td>\n",
              "      <td>rachakonda police commissioner mahesh bhagwat ...</td>\n",
              "      <td>national</td>\n",
              "      <td>{'neg': 0.281, 'neu': 0.719, 'pos': 0.0, 'comp...</td>\n",
              "    </tr>\n",
              "    <tr>\n",
              "      <th>34</th>\n",
              "      <td>2 friends drown hyderabad lake birthday celebr...</td>\n",
              "      <td>two youths drowned lake hyderabad celebrating ...</td>\n",
              "      <td>national</td>\n",
              "      <td>{'neg': 0.231, 'neu': 0.455, 'pos': 0.315, 'co...</td>\n",
              "    </tr>\n",
              "    <tr>\n",
              "      <th>35</th>\n",
              "      <td>bjp ncp two ends river maha minister nawab malik</td>\n",
              "      <td>ncp chief sharad pawar saturday met pm narendr...</td>\n",
              "      <td>national</td>\n",
              "      <td>{'neg': 0.0, 'neu': 1.0, 'pos': 0.0, 'compound...</td>\n",
              "    </tr>\n",
              "    <tr>\n",
              "      <th>36</th>\n",
              "      <td>dalit groom threatened riding horse baraat meerut</td>\n",
              "      <td>man dalit community allegedly warned uppercast...</td>\n",
              "      <td>national</td>\n",
              "      <td>{'neg': 0.225, 'neu': 0.724, 'pos': 0.052, 'co...</td>\n",
              "    </tr>\n",
              "    <tr>\n",
              "      <th>37</th>\n",
              "      <td>nandi hills near bengaluru get ropeway soon ka...</td>\n",
              "      <td>karnataka tourism department said hill station...</td>\n",
              "      <td>national</td>\n",
              "      <td>{'neg': 0.0, 'neu': 0.966, 'pos': 0.034, 'comp...</td>\n",
              "    </tr>\n",
              "    <tr>\n",
              "      <th>38</th>\n",
              "      <td>4 arrested stealing car parts thane 25 car sil...</td>\n",
              "      <td>four persons allegedly involved 25 cases theft...</td>\n",
              "      <td>national</td>\n",
              "      <td>{'neg': 0.173, 'neu': 0.783, 'pos': 0.044, 'co...</td>\n",
              "    </tr>\n",
              "    <tr>\n",
              "      <th>39</th>\n",
              "      <td>2 held siphoning 12 lakh mumbai jeweller via s...</td>\n",
              "      <td>police arrested two cyber criminals noida mumb...</td>\n",
              "      <td>national</td>\n",
              "      <td>{'neg': 0.477, 'neu': 0.523, 'pos': 0.0, 'comp...</td>\n",
              "    </tr>\n",
              "    <tr>\n",
              "      <th>40</th>\n",
              "      <td>not ktaka cm asked resigned amid political crisis</td>\n",
              "      <td>amid political crisis karnataka chief minster ...</td>\n",
              "      <td>politics</td>\n",
              "      <td>{'neg': 0.104, 'neu': 0.784, 'pos': 0.112, 'co...</td>\n",
              "    </tr>\n",
              "    <tr>\n",
              "      <th>41</th>\n",
              "      <td>cong not need afraid run rss rahul</td>\n",
              "      <td>wayanad mp rahul gandhi friday said congress n...</td>\n",
              "      <td>politics</td>\n",
              "      <td>{'neg': 0.0, 'neu': 0.803, 'pos': 0.197, 'comp...</td>\n",
              "    </tr>\n",
              "    <tr>\n",
              "      <th>42</th>\n",
              "      <td>know nothing leadership change ktaka cm meetin...</td>\n",
              "      <td>karnataka chief minister bs yediyurappa friday...</td>\n",
              "      <td>politics</td>\n",
              "      <td>{'neg': 0.037, 'neu': 0.963, 'pos': 0.0, 'comp...</td>\n",
              "    </tr>\n",
              "    <tr>\n",
              "      <th>43</th>\n",
              "      <td>pawar meets pm modi says discussed issues nati...</td>\n",
              "      <td>ncp chief sharad pawar saturday met prime mini...</td>\n",
              "      <td>politics</td>\n",
              "      <td>{'neg': 0.0, 'neu': 0.873, 'pos': 0.127, 'comp...</td>\n",
              "    </tr>\n",
              "    <tr>\n",
              "      <th>44</th>\n",
              "      <td>rot hell omar celebrating indian journalists d...</td>\n",
              "      <td>erstwhile state jks former cm omar abdullah fr...</td>\n",
              "      <td>politics</td>\n",
              "      <td>{'neg': 0.299, 'neu': 0.502, 'pos': 0.199, 'co...</td>\n",
              "    </tr>\n",
              "    <tr>\n",
              "      <th>45</th>\n",
              "      <td>ed attaches anil deshmukhs assets worth 4 crore</td>\n",
              "      <td>enforcement directorate ed said friday attache...</td>\n",
              "      <td>politics</td>\n",
              "      <td>{'neg': 0.071, 'neu': 0.734, 'pos': 0.194, 'co...</td>\n",
              "    </tr>\n",
              "    <tr>\n",
              "      <th>46</th>\n",
              "      <td>uddhav urges pm frame policy stop gatherings a...</td>\n",
              "      <td>maharashtra chief minister uddhav thackeray fr...</td>\n",
              "      <td>politics</td>\n",
              "      <td>{'neg': 0.106, 'neu': 0.815, 'pos': 0.079, 'co...</td>\n",
              "    </tr>\n",
              "    <tr>\n",
              "      <th>47</th>\n",
              "      <td>tn cm urges pm modi reconsider decision conduc...</td>\n",
              "      <td>tamil nadu cm mk stalin requested prime minist...</td>\n",
              "      <td>politics</td>\n",
              "      <td>{'neg': 0.0, 'neu': 1.0, 'pos': 0.0, 'compound...</td>\n",
              "    </tr>\n",
              "    <tr>\n",
              "      <th>48</th>\n",
              "      <td>covid19 pandemic exposed gaping loopholes boas...</td>\n",
              "      <td>congress leader p chidambaram said covid19 pan...</td>\n",
              "      <td>politics</td>\n",
              "      <td>{'neg': 0.313, 'neu': 0.6, 'pos': 0.087, 'comp...</td>\n",
              "    </tr>\n",
              "    <tr>\n",
              "      <th>49</th>\n",
              "      <td>urban men lost jobs women 2nd covid19 wave cmie</td>\n",
              "      <td>urban men lost jobs women second wave covid19 ...</td>\n",
              "      <td>politics</td>\n",
              "      <td>{'neg': 0.205, 'neu': 0.712, 'pos': 0.084, 'co...</td>\n",
              "    </tr>\n",
              "    <tr>\n",
              "      <th>50</th>\n",
              "      <td>punjab cm remain chief ministerial face congre...</td>\n",
              "      <td>punjab congress incharge harish rawat friday a...</td>\n",
              "      <td>politics</td>\n",
              "      <td>{'neg': 0.058, 'neu': 0.682, 'pos': 0.26, 'com...</td>\n",
              "    </tr>\n",
              "    <tr>\n",
              "      <th>51</th>\n",
              "      <td>education saffronised bjpruled states wb minister</td>\n",
              "      <td>west bengal minister bratya basu alleged frida...</td>\n",
              "      <td>politics</td>\n",
              "      <td>{'neg': 0.15, 'neu': 0.85, 'pos': 0.0, 'compou...</td>\n",
              "    </tr>\n",
              "    <tr>\n",
              "      <th>52</th>\n",
              "      <td>resume dialogue agitating farmers punjab cm pm...</td>\n",
              "      <td>citing growing crossborder threats alleged ter...</td>\n",
              "      <td>politics</td>\n",
              "      <td>{'neg': 0.197, 'neu': 0.727, 'pos': 0.076, 'co...</td>\n",
              "    </tr>\n",
              "    <tr>\n",
              "      <th>53</th>\n",
              "      <td>pakistan creator taliban raut imran khans rema...</td>\n",
              "      <td>shiv sena leader sanjay raut said pakistan cre...</td>\n",
              "      <td>politics</td>\n",
              "      <td>{'neg': 0.26, 'neu': 0.682, 'pos': 0.058, 'com...</td>\n",
              "    </tr>\n",
              "    <tr>\n",
              "      <th>54</th>\n",
              "      <td>talks stalled pak providing protection terrori...</td>\n",
              "      <td>senior congress leader digvijaya singh said ta...</td>\n",
              "      <td>politics</td>\n",
              "      <td>{'neg': 0.332, 'neu': 0.668, 'pos': 0.0, 'comp...</td>\n",
              "    </tr>\n",
              "    <tr>\n",
              "      <th>55</th>\n",
              "      <td>cong leaders detained protest rising fuel pric...</td>\n",
              "      <td>several congress leaders workers detained hyde...</td>\n",
              "      <td>politics</td>\n",
              "      <td>{'neg': 0.183, 'neu': 0.817, 'pos': 0.0, 'comp...</td>\n",
              "    </tr>\n",
              "    <tr>\n",
              "      <th>56</th>\n",
              "      <td>democracy destroyed uttar pradesh pm oblivious...</td>\n",
              "      <td>congress general secretary priyanka gandhi vad...</td>\n",
              "      <td>politics</td>\n",
              "      <td>{'neg': 0.119, 'neu': 0.688, 'pos': 0.193, 'co...</td>\n",
              "    </tr>\n",
              "    <tr>\n",
              "      <th>57</th>\n",
              "      <td>man poses ed officer cheat tmc mp santanu sen ...</td>\n",
              "      <td>38yearold man chandan roy arrested bus terminu...</td>\n",
              "      <td>politics</td>\n",
              "      <td>{'neg': 0.148, 'neu': 0.852, 'pos': 0.0, 'comp...</td>\n",
              "    </tr>\n",
              "    <tr>\n",
              "      <th>58</th>\n",
              "      <td>pms certificate cannot hide cms cruelty 2nd wa...</td>\n",
              "      <td>priyanka gandhi vadra friday criticised cm yog...</td>\n",
              "      <td>politics</td>\n",
              "      <td>{'neg': 0.17, 'neu': 0.73, 'pos': 0.1, 'compou...</td>\n",
              "    </tr>\n",
              "    <tr>\n",
              "      <th>59</th>\n",
              "      <td>petrol diesel expensive desi ghee sachin pilot</td>\n",
              "      <td>taking dig centre rising fuel prices senior co...</td>\n",
              "      <td>politics</td>\n",
              "      <td>{'neg': 0.0, 'neu': 1.0, 'pos': 0.0, 'compound...</td>\n",
              "    </tr>\n",
              "  </tbody>\n",
              "</table>\n",
              "</div>"
            ],
            "text/plain": [
              "                                        news_headline  ...                                           compound\n",
              "0   1st covid19 case reported olympic village 6 da...  ...  {'neg': 0.0, 'neu': 0.879, 'pos': 0.121, 'comp...\n",
              "1   pcb share meme young fan whose reaction went v...  ...  {'neg': 0.07, 'neu': 0.636, 'pos': 0.293, 'com...\n",
              "2   englands livingstone smashes 10343 t20i vs pak...  ...  {'neg': 0.0, 'neu': 0.93, 'pos': 0.07, 'compou...\n",
              "3   indiaborn irish allrounder simi becomes 1st cr...  ...  {'neg': 0.0, 'neu': 0.962, 'pos': 0.038, 'comp...\n",
              "4   olympicbound atanu shares pics airport says ge...  ...  {'neg': 0.0, 'neu': 0.734, 'pos': 0.266, 'comp...\n",
              "5   cwc super league points table read south afric...  ...  {'neg': 0.069, 'neu': 0.844, 'pos': 0.087, 'co...\n",
              "6   ben stokes reveals played pakistan despite rid...  ...  {'neg': 0.181, 'neu': 0.702, 'pos': 0.117, 'co...\n",
              "7   2007 t20 world cup win came 13 years ago forgo...  ...  {'neg': 0.098, 'neu': 0.68, 'pos': 0.222, 'com...\n",
              "8   01 tested covid19 positive 16 days tokyo ahead...  ...  {'neg': 0.0, 'neu': 0.915, 'pos': 0.085, 'comp...\n",
              "9   sindhu improved defence worked motion skills g...  ...  {'neg': 0.0, 'neu': 0.664, 'pos': 0.336, 'comp...\n",
              "10  gb nagar dm represent india tokyo paralympics ...  ...  {'neg': 0.079, 'neu': 0.784, 'pos': 0.137, 'co...\n",
              "11    gareth bale not part spurs 202122 coach esprito  ...  {'neg': 0.0, 'neu': 1.0, 'pos': 0.0, 'compound...\n",
              "12  slindia series chance kuldeep yadav manish pan...  ...  {'neg': 0.04, 'neu': 0.909, 'pos': 0.051, 'com...\n",
              "13  england need understand pakistan no pushovers ...  ...  {'neg': 0.082, 'neu': 0.677, 'pos': 0.24, 'com...\n",
              "14  indian archers script history tokyo olympics a...  ...  {'neg': 0.0, 'neu': 0.749, 'pos': 0.251, 'comp...\n",
              "15  no words express emotions nagal qualifying oly...  ...  {'neg': 0.056, 'neu': 0.687, 'pos': 0.257, 'co...\n",
              "16  jhulan mithali need support players bowling ba...  ...  {'neg': 0.0, 'neu': 0.793, 'pos': 0.207, 'comp...\n",
              "17  india sri lanka even chance 1st odi sl captain...  ...  {'neg': 0.043, 'neu': 0.79, 'pos': 0.167, 'com...\n",
              "18     past olympic failures play mind archer deepika  ...  {'neg': 0.197, 'neu': 0.623, 'pos': 0.18, 'com...\n",
              "19     pakistan unpredictably brilliant watch vaughan  ...  {'neg': 0.047, 'neu': 0.749, 'pos': 0.204, 'co...\n",
              "20  delhi airports t2 terminal reopen july 22 2mon...  ...  {'neg': 0.0, 'neu': 1.0, 'pos': 0.0, 'compound...\n",
              "21  gambhir reaches island delhi boat provide covi...  ...  {'neg': 0.028, 'neu': 0.9, 'pos': 0.072, 'comp...\n",
              "22  pawar meets pm modi says discussed issues nati...  ...  {'neg': 0.0, 'neu': 0.873, 'pos': 0.127, 'comp...\n",
              "23  railway station pm sold tea gets heritage look...  ...  {'neg': 0.0, 'neu': 0.932, 'pos': 0.068, 'comp...\n",
              "24  railway minister travels train engine loco pil...  ...  {'neg': 0.078, 'neu': 0.867, 'pos': 0.055, 'co...\n",
              "25  states take ganga jal haridwar water tankers y...  ...  {'neg': 0.121, 'neu': 0.793, 'pos': 0.086, 'co...\n",
              "26  stan swamys death remain stain indias human ri...  ...  {'neg': 0.253, 'neu': 0.666, 'pos': 0.08, 'com...\n",
              "27  diver rewarded rescuing man stuck yamuna river...  ...  {'neg': 0.063, 'neu': 0.688, 'pos': 0.249, 'co...\n",
              "28  vp welcomes 14 colleges move offer regional la...  ...  {'neg': 0.0, 'neu': 0.864, 'pos': 0.136, 'comp...\n",
              "29  talks stalled pak providing protection terrori...  ...  {'neg': 0.332, 'neu': 0.668, 'pos': 0.0, 'comp...\n",
              "30                 man criminal record shot dead pune  ...  {'neg': 0.418, 'neu': 0.582, 'pos': 0.0, 'comp...\n",
              "31  historysheeter mushtaq dies attack hyds old ma...  ...  {'neg': 0.266, 'neu': 0.698, 'pos': 0.036, 'co...\n",
              "32  uk national arrested cheating hyderabad woman ...  ...  {'neg': 0.204, 'neu': 0.796, 'pos': 0.0, 'comp...\n",
              "33  inspector subinspector suspended hyd bribery a...  ...  {'neg': 0.281, 'neu': 0.719, 'pos': 0.0, 'comp...\n",
              "34  2 friends drown hyderabad lake birthday celebr...  ...  {'neg': 0.231, 'neu': 0.455, 'pos': 0.315, 'co...\n",
              "35   bjp ncp two ends river maha minister nawab malik  ...  {'neg': 0.0, 'neu': 1.0, 'pos': 0.0, 'compound...\n",
              "36  dalit groom threatened riding horse baraat meerut  ...  {'neg': 0.225, 'neu': 0.724, 'pos': 0.052, 'co...\n",
              "37  nandi hills near bengaluru get ropeway soon ka...  ...  {'neg': 0.0, 'neu': 0.966, 'pos': 0.034, 'comp...\n",
              "38  4 arrested stealing car parts thane 25 car sil...  ...  {'neg': 0.173, 'neu': 0.783, 'pos': 0.044, 'co...\n",
              "39  2 held siphoning 12 lakh mumbai jeweller via s...  ...  {'neg': 0.477, 'neu': 0.523, 'pos': 0.0, 'comp...\n",
              "40  not ktaka cm asked resigned amid political crisis  ...  {'neg': 0.104, 'neu': 0.784, 'pos': 0.112, 'co...\n",
              "41                 cong not need afraid run rss rahul  ...  {'neg': 0.0, 'neu': 0.803, 'pos': 0.197, 'comp...\n",
              "42  know nothing leadership change ktaka cm meetin...  ...  {'neg': 0.037, 'neu': 0.963, 'pos': 0.0, 'comp...\n",
              "43  pawar meets pm modi says discussed issues nati...  ...  {'neg': 0.0, 'neu': 0.873, 'pos': 0.127, 'comp...\n",
              "44  rot hell omar celebrating indian journalists d...  ...  {'neg': 0.299, 'neu': 0.502, 'pos': 0.199, 'co...\n",
              "45    ed attaches anil deshmukhs assets worth 4 crore  ...  {'neg': 0.071, 'neu': 0.734, 'pos': 0.194, 'co...\n",
              "46  uddhav urges pm frame policy stop gatherings a...  ...  {'neg': 0.106, 'neu': 0.815, 'pos': 0.079, 'co...\n",
              "47  tn cm urges pm modi reconsider decision conduc...  ...  {'neg': 0.0, 'neu': 1.0, 'pos': 0.0, 'compound...\n",
              "48  covid19 pandemic exposed gaping loopholes boas...  ...  {'neg': 0.313, 'neu': 0.6, 'pos': 0.087, 'comp...\n",
              "49    urban men lost jobs women 2nd covid19 wave cmie  ...  {'neg': 0.205, 'neu': 0.712, 'pos': 0.084, 'co...\n",
              "50  punjab cm remain chief ministerial face congre...  ...  {'neg': 0.058, 'neu': 0.682, 'pos': 0.26, 'com...\n",
              "51  education saffronised bjpruled states wb minister  ...  {'neg': 0.15, 'neu': 0.85, 'pos': 0.0, 'compou...\n",
              "52  resume dialogue agitating farmers punjab cm pm...  ...  {'neg': 0.197, 'neu': 0.727, 'pos': 0.076, 'co...\n",
              "53  pakistan creator taliban raut imran khans rema...  ...  {'neg': 0.26, 'neu': 0.682, 'pos': 0.058, 'com...\n",
              "54  talks stalled pak providing protection terrori...  ...  {'neg': 0.332, 'neu': 0.668, 'pos': 0.0, 'comp...\n",
              "55  cong leaders detained protest rising fuel pric...  ...  {'neg': 0.183, 'neu': 0.817, 'pos': 0.0, 'comp...\n",
              "56  democracy destroyed uttar pradesh pm oblivious...  ...  {'neg': 0.119, 'neu': 0.688, 'pos': 0.193, 'co...\n",
              "57  man poses ed officer cheat tmc mp santanu sen ...  ...  {'neg': 0.148, 'neu': 0.852, 'pos': 0.0, 'comp...\n",
              "58  pms certificate cannot hide cms cruelty 2nd wa...  ...  {'neg': 0.17, 'neu': 0.73, 'pos': 0.1, 'compou...\n",
              "59     petrol diesel expensive desi ghee sachin pilot  ...  {'neg': 0.0, 'neu': 1.0, 'pos': 0.0, 'compound...\n",
              "\n",
              "[60 rows x 4 columns]"
            ]
          },
          "metadata": {
            "tags": []
          },
          "execution_count": 66
        },
        {
          "output_type": "stream",
          "text": [
            "time: 94.5 ms (started: 2021-07-17 12:38:04 +00:00)\n"
          ],
          "name": "stdout"
        }
      ]
    },
    {
      "cell_type": "code",
      "metadata": {
        "colab": {
          "base_uri": "https://localhost:8080/",
          "height": 35
        },
        "id": "XJ-NELr8RIPF",
        "outputId": "3d61aaa7-bd58-4c73-cb67-3d55b99ef383"
      },
      "source": [
        "test = df['news_headline'][10]\n",
        "test"
      ],
      "execution_count": 67,
      "outputs": [
        {
          "output_type": "execute_result",
          "data": {
            "application/vnd.google.colaboratory.intrinsic+json": {
              "type": "string"
            },
            "text/plain": [
              "'gb nagar dm represent india tokyo paralympics 2020'"
            ]
          },
          "metadata": {
            "tags": []
          },
          "execution_count": 67
        },
        {
          "output_type": "stream",
          "text": [
            "time: 4.65 ms (started: 2021-07-17 12:38:04 +00:00)\n"
          ],
          "name": "stdout"
        }
      ]
    },
    {
      "cell_type": "code",
      "metadata": {
        "colab": {
          "base_uri": "https://localhost:8080/"
        },
        "id": "dc0lz3TCROuC",
        "outputId": "81a45826-b39c-4b38-fca3-287dc933ac43"
      },
      "source": [
        "df['compound'][10]"
      ],
      "execution_count": 68,
      "outputs": [
        {
          "output_type": "execute_result",
          "data": {
            "text/plain": [
              "{'compound': 0.5656, 'neg': 0.079, 'neu': 0.784, 'pos': 0.137}"
            ]
          },
          "metadata": {
            "tags": []
          },
          "execution_count": 68
        },
        {
          "output_type": "stream",
          "text": [
            "time: 5.61 ms (started: 2021-07-17 12:38:04 +00:00)\n"
          ],
          "name": "stdout"
        }
      ]
    },
    {
      "cell_type": "code",
      "metadata": {
        "id": "Me89ivEARaG0"
      },
      "source": [
        ""
      ],
      "execution_count": 68,
      "outputs": []
    }
  ]
}