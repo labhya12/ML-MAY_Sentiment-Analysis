{
  "nbformat": 4,
  "nbformat_minor": 0,
  "metadata": {
    "colab": {
      "name": "Deployment(web scraping).ipynb",
      "provenance": [],
      "authorship_tag": "ABX9TyPnf/od6VyR2fg+BVVRMHPj",
      "include_colab_link": true
    },
    "kernelspec": {
      "name": "python3",
      "display_name": "Python 3"
    },
    "language_info": {
      "name": "python"
    }
  },
  "cells": [
    {
      "cell_type": "markdown",
      "metadata": {
        "id": "view-in-github",
        "colab_type": "text"
      },
      "source": [
        "<a href=\"https://colab.research.google.com/github/labhya12/ML-MAY_Sentiment-Analysis/blob/main/Deployment(web_scraping).ipynb\" target=\"_parent\"><img src=\"https://colab.research.google.com/assets/colab-badge.svg\" alt=\"Open In Colab\"/></a>"
      ]
    },
    {
      "cell_type": "code",
      "metadata": {
        "colab": {
          "base_uri": "https://localhost:8080/"
        },
        "id": "287OBOpXlEGB",
        "outputId": "f779664f-07cb-4f09-c89a-3694dd7bb027"
      },
      "source": [
        "!pip install streamlit --quiet\n",
        "!pip install pyngrok==4.1.1\n",
        "from pyngrok import ngrok"
      ],
      "execution_count": 2,
      "outputs": [
        {
          "output_type": "stream",
          "text": [
            "Requirement already satisfied: pyngrok==4.1.1 in /usr/local/lib/python3.7/dist-packages (4.1.1)\n",
            "Requirement already satisfied: future in /usr/local/lib/python3.7/dist-packages (from pyngrok==4.1.1) (0.16.0)\n",
            "Requirement already satisfied: PyYAML in /usr/local/lib/python3.7/dist-packages (from pyngrok==4.1.1) (3.13)\n"
          ],
          "name": "stdout"
        }
      ]
    },
    {
      "cell_type": "code",
      "metadata": {
        "colab": {
          "base_uri": "https://localhost:8080/"
        },
        "id": "kSdivf3MlVTa",
        "outputId": "5b7b5f60-9175-4664-ac1d-0ab69a2fc114"
      },
      "source": [
        "%%writefile app.py\n",
        "# It is a magic command to create a .py file\n",
        "import streamlit as st\n",
        "import joblib\n",
        "st.title('Sentiment Analysis Deployment')\n",
        "test_model = joblib.load('//content/news.csv')\n",
        "ip = st.text_input('Enter your message')\n",
        "op = test_model.predict([ip])\n",
        "if op[0] == '1':\n",
        "  result = 'POSITIVE COMMENT'\n",
        "elif op[0] == '0':\n",
        "  result = 'NEUTRAL COMMENT'\n",
        "else:\n",
        "  result = 'NEGATIVE COMMENT'\n",
        "if st.button('Predict'):\n",
        "  st.title(result)"
      ],
      "execution_count": 5,
      "outputs": [
        {
          "output_type": "stream",
          "text": [
            "Overwriting app.py\n"
          ],
          "name": "stdout"
        }
      ]
    },
    {
      "cell_type": "code",
      "metadata": {
        "colab": {
          "base_uri": "https://localhost:8080/",
          "height": 52
        },
        "id": "9cH9BGWRlu7n",
        "outputId": "5d1beda0-def9-477a-cefb-ea5ffaa203db"
      },
      "source": [
        "!nohup streamlit run app.py &\n",
        "url = ngrok.connect(port ='8501')\n",
        "url"
      ],
      "execution_count": 4,
      "outputs": [
        {
          "output_type": "stream",
          "text": [
            "nohup: appending output to 'nohup.out'\n"
          ],
          "name": "stdout"
        },
        {
          "output_type": "execute_result",
          "data": {
            "application/vnd.google.colaboratory.intrinsic+json": {
              "type": "string"
            },
            "text/plain": [
              "'http://36bacd1bc374.ngrok.io'"
            ]
          },
          "metadata": {
            "tags": []
          },
          "execution_count": 4
        }
      ]
    },
    {
      "cell_type": "code",
      "metadata": {
        "id": "2423mrZ7lvhN"
      },
      "source": [
        ""
      ],
      "execution_count": null,
      "outputs": []
    }
  ]
}